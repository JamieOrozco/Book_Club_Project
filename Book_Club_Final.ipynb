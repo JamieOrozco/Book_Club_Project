{
 "cells": [
  {
   "cell_type": "markdown",
   "metadata": {},
   "source": [
    "# Data Preprocessing"
   ]
  },
  {
   "cell_type": "code",
   "execution_count": 1,
   "metadata": {},
   "outputs": [],
   "source": [
    "#install pydotplus\n",
    "%matplotlib inline\n",
    "import numpy as np\n",
    "import pandas as pd\n",
    "import seaborn as sns\n",
    "from sklearn.decomposition import PCA\n",
    "from sklearn import preprocessing\n",
    "import matplotlib.pylab as plt"
   ]
  },
  {
   "cell_type": "markdown",
   "metadata": {},
   "source": [
    "## 1) After bringing in the data, compute the percentage of missing for all variables"
   ]
  },
  {
   "cell_type": "code",
   "execution_count": 2,
   "metadata": {},
   "outputs": [
    {
     "data": {
      "text/plain": [
       "FirstPurch          0.01975\n",
       "DoItYBks            0.01425\n",
       "F                   0.01350\n",
       "YouthBks            0.01075\n",
       "M                   0.00950\n",
       "CookBks             0.00950\n",
       "RefBks              0.00925\n",
       "R                   0.00900\n",
       "GeogBks             0.00850\n",
       "ItalAtlas           0.00825\n",
       "ArtBks              0.00825\n",
       "ItalCook            0.00650\n",
       "ChildBks            0.00425\n",
       "ItalArt             0.00075\n",
       "ID#                 0.00000\n",
       "Gender              0.00000\n",
       "No_Florence         0.00000\n",
       "Yes_Florence        0.00000\n",
       "Florence            0.00000\n",
       "Related Purchase    0.00000\n",
       "Mcode               0.00000\n",
       "Rcode               0.00000\n",
       "Fcode               0.00000\n",
       "Seq#                0.00000\n",
       "dtype: float64"
      ]
     },
     "execution_count": 2,
     "metadata": {},
     "output_type": "execute_result"
    }
   ],
   "source": [
    "charlesbc_df = pd.read_excel('CharlesBookClub-Project1.xlsx')\n",
    "def percent_missing(data):\n",
    "    return data.isnull().sum().divide(len(data)).sort_values(ascending=False)\n",
    "percent_missing(charlesbc_df)"
   ]
  },
  {
   "cell_type": "code",
   "execution_count": 3,
   "metadata": {},
   "outputs": [
    {
     "name": "stdout",
     "output_type": "stream",
     "text": [
      "                   median\n",
      "Seq#               2000.5\n",
      "ID#               16581.0\n",
      "Gender                1.0\n",
      "M                   208.0\n",
      "R                    12.0\n",
      "F                     2.0\n",
      "FirstPurch           20.0\n",
      "ChildBks              0.0\n",
      "YouthBks              0.0\n",
      "CookBks               0.0\n",
      "DoItYBks              0.0\n",
      "RefBks                0.0\n",
      "ArtBks                0.0\n",
      "GeogBks               0.0\n",
      "ItalCook              0.0\n",
      "ItalAtlas             0.0\n",
      "ItalArt               0.0\n",
      "Florence              0.0\n",
      "Related Purchase      0.0\n",
      "Mcode                 5.0\n",
      "Rcode                 3.0\n",
      "Fcode                 2.0\n",
      "Yes_Florence          0.0\n",
      "No_Florence           1.0\n"
     ]
    }
   ],
   "source": [
    "#Checking the median for all columns. All values are whole numbers except for sequence, therfor no need to round.\n",
    "median_df = pd.DataFrame({'median': charlesbc_df.median()})\n",
    "print(median_df)"
   ]
  },
  {
   "cell_type": "markdown",
   "metadata": {},
   "source": [
    "## 2) For any missing data, impute its value using the median (rounded to nearest whole number)"
   ]
  },
  {
   "cell_type": "code",
   "execution_count": 4,
   "metadata": {},
   "outputs": [
    {
     "data": {
      "text/plain": [
       "No_Florence         0.0\n",
       "Yes_Florence        0.0\n",
       "ID#                 0.0\n",
       "Gender              0.0\n",
       "M                   0.0\n",
       "R                   0.0\n",
       "F                   0.0\n",
       "FirstPurch          0.0\n",
       "ChildBks            0.0\n",
       "YouthBks            0.0\n",
       "CookBks             0.0\n",
       "DoItYBks            0.0\n",
       "RefBks              0.0\n",
       "ArtBks              0.0\n",
       "GeogBks             0.0\n",
       "ItalCook            0.0\n",
       "ItalAtlas           0.0\n",
       "ItalArt             0.0\n",
       "Florence            0.0\n",
       "Related Purchase    0.0\n",
       "Mcode               0.0\n",
       "Rcode               0.0\n",
       "Fcode               0.0\n",
       "Seq#                0.0\n",
       "dtype: float64"
      ]
     },
     "execution_count": 4,
     "metadata": {},
     "output_type": "execute_result"
    }
   ],
   "source": [
    "charlesbcfill_df = charlesbc_df.fillna(charlesbc_df.median())\n",
    "percent_missing(charlesbcfill_df)"
   ]
  },
  {
   "cell_type": "markdown",
   "metadata": {},
   "source": [
    "## 3) Compute the summary statistics (mean, sd, min, max and median) for the following variables: M,R,F"
   ]
  },
  {
   "cell_type": "code",
   "execution_count": 5,
   "metadata": {},
   "outputs": [
    {
     "name": "stdout",
     "output_type": "stream",
     "text": [
      "    min       mean  median          sd    max\n",
      "M  15.0  208.12825   208.0  100.519664  479.0\n",
      "R   2.0   13.37450    12.0    8.067963   36.0\n",
      "F   1.0    3.80550     2.0    3.438841   12.0\n"
     ]
    }
   ],
   "source": [
    "mrf_df = charlesbcfill_df[['M', 'R', 'F']].copy()\n",
    "mrf_df.head()\n",
    "stats_df = pd.DataFrame({'min': mrf_df.min(), 'mean': mrf_df.mean(), 'median': mrf_df.median(), \\\n",
    "                      'sd': mrf_df.std(), 'max': mrf_df.max()})\n",
    "\n",
    "#stats_df.head()\n",
    "print(stats_df)"
   ]
  },
  {
   "cell_type": "markdown",
   "metadata": {},
   "source": [
    "## A) Comments in report."
   ]
  },
  {
   "cell_type": "markdown",
   "metadata": {},
   "source": [
    "## 4) Create dummy variables for the following variables: Mcode, Rcode and Fcode"
   ]
  },
  {
   "cell_type": "code",
   "execution_count": 6,
   "metadata": {},
   "outputs": [
    {
     "data": {
      "text/html": [
       "<div>\n",
       "<style scoped>\n",
       "    .dataframe tbody tr th:only-of-type {\n",
       "        vertical-align: middle;\n",
       "    }\n",
       "\n",
       "    .dataframe tbody tr th {\n",
       "        vertical-align: top;\n",
       "    }\n",
       "\n",
       "    .dataframe thead th {\n",
       "        text-align: right;\n",
       "    }\n",
       "</style>\n",
       "<table border=\"1\" class=\"dataframe\">\n",
       "  <thead>\n",
       "    <tr style=\"text-align: right;\">\n",
       "      <th></th>\n",
       "      <th>Mcode_1</th>\n",
       "      <th>Mcode_2</th>\n",
       "      <th>Mcode_3</th>\n",
       "      <th>Mcode_4</th>\n",
       "      <th>Mcode_5</th>\n",
       "      <th>Rcode_1</th>\n",
       "      <th>Rcode_2</th>\n",
       "      <th>Rcode_3</th>\n",
       "      <th>Rcode_4</th>\n",
       "      <th>Fcode_1</th>\n",
       "      <th>Fcode_2</th>\n",
       "      <th>Fcode_3</th>\n",
       "    </tr>\n",
       "  </thead>\n",
       "  <tbody>\n",
       "    <tr>\n",
       "      <th>0</th>\n",
       "      <td>0</td>\n",
       "      <td>0</td>\n",
       "      <td>0</td>\n",
       "      <td>0</td>\n",
       "      <td>1</td>\n",
       "      <td>0</td>\n",
       "      <td>0</td>\n",
       "      <td>0</td>\n",
       "      <td>1</td>\n",
       "      <td>0</td>\n",
       "      <td>1</td>\n",
       "      <td>0</td>\n",
       "    </tr>\n",
       "    <tr>\n",
       "      <th>1</th>\n",
       "      <td>0</td>\n",
       "      <td>0</td>\n",
       "      <td>0</td>\n",
       "      <td>1</td>\n",
       "      <td>0</td>\n",
       "      <td>0</td>\n",
       "      <td>0</td>\n",
       "      <td>1</td>\n",
       "      <td>0</td>\n",
       "      <td>0</td>\n",
       "      <td>1</td>\n",
       "      <td>0</td>\n",
       "    </tr>\n",
       "    <tr>\n",
       "      <th>2</th>\n",
       "      <td>0</td>\n",
       "      <td>0</td>\n",
       "      <td>0</td>\n",
       "      <td>1</td>\n",
       "      <td>0</td>\n",
       "      <td>0</td>\n",
       "      <td>0</td>\n",
       "      <td>0</td>\n",
       "      <td>1</td>\n",
       "      <td>0</td>\n",
       "      <td>0</td>\n",
       "      <td>1</td>\n",
       "    </tr>\n",
       "    <tr>\n",
       "      <th>3</th>\n",
       "      <td>0</td>\n",
       "      <td>0</td>\n",
       "      <td>0</td>\n",
       "      <td>0</td>\n",
       "      <td>1</td>\n",
       "      <td>1</td>\n",
       "      <td>0</td>\n",
       "      <td>0</td>\n",
       "      <td>0</td>\n",
       "      <td>1</td>\n",
       "      <td>0</td>\n",
       "      <td>0</td>\n",
       "    </tr>\n",
       "    <tr>\n",
       "      <th>4</th>\n",
       "      <td>0</td>\n",
       "      <td>0</td>\n",
       "      <td>0</td>\n",
       "      <td>0</td>\n",
       "      <td>1</td>\n",
       "      <td>0</td>\n",
       "      <td>0</td>\n",
       "      <td>1</td>\n",
       "      <td>0</td>\n",
       "      <td>1</td>\n",
       "      <td>0</td>\n",
       "      <td>0</td>\n",
       "    </tr>\n",
       "  </tbody>\n",
       "</table>\n",
       "</div>"
      ],
      "text/plain": [
       "   Mcode_1  Mcode_2  Mcode_3  Mcode_4  Mcode_5  Rcode_1  Rcode_2  Rcode_3  \\\n",
       "0        0        0        0        0        1        0        0        0   \n",
       "1        0        0        0        1        0        0        0        1   \n",
       "2        0        0        0        1        0        0        0        0   \n",
       "3        0        0        0        0        1        1        0        0   \n",
       "4        0        0        0        0        1        0        0        1   \n",
       "\n",
       "   Rcode_4  Fcode_1  Fcode_2  Fcode_3  \n",
       "0        1        0        1        0  \n",
       "1        0        0        1        0  \n",
       "2        1        0        0        1  \n",
       "3        0        1        0        0  \n",
       "4        0        1        0        0  "
      ]
     },
     "execution_count": 6,
     "metadata": {},
     "output_type": "execute_result"
    }
   ],
   "source": [
    "mrfcode_df = charlesbcfill_df[['Mcode', 'Rcode', 'Fcode']].copy()\n",
    "mrfcode_df.head()\n",
    "mrfdummies_df = pd.get_dummies(mrfcode_df,columns=['Mcode','Rcode', 'Fcode'])\n",
    "mrfdummies_df.head()"
   ]
  },
  {
   "cell_type": "markdown",
   "metadata": {},
   "source": [
    "## A) Combine the dummy variables back to the original data"
   ]
  },
  {
   "cell_type": "code",
   "execution_count": 7,
   "metadata": {},
   "outputs": [
    {
     "data": {
      "text/html": [
       "<div>\n",
       "<style scoped>\n",
       "    .dataframe tbody tr th:only-of-type {\n",
       "        vertical-align: middle;\n",
       "    }\n",
       "\n",
       "    .dataframe tbody tr th {\n",
       "        vertical-align: top;\n",
       "    }\n",
       "\n",
       "    .dataframe thead th {\n",
       "        text-align: right;\n",
       "    }\n",
       "</style>\n",
       "<table border=\"1\" class=\"dataframe\">\n",
       "  <thead>\n",
       "    <tr style=\"text-align: right;\">\n",
       "      <th></th>\n",
       "      <th>Seq#</th>\n",
       "      <th>ID#</th>\n",
       "      <th>Gender</th>\n",
       "      <th>M</th>\n",
       "      <th>R</th>\n",
       "      <th>F</th>\n",
       "      <th>FirstPurch</th>\n",
       "      <th>ChildBks</th>\n",
       "      <th>YouthBks</th>\n",
       "      <th>CookBks</th>\n",
       "      <th>...</th>\n",
       "      <th>Mcode_3</th>\n",
       "      <th>Mcode_4</th>\n",
       "      <th>Mcode_5</th>\n",
       "      <th>Rcode_1</th>\n",
       "      <th>Rcode_2</th>\n",
       "      <th>Rcode_3</th>\n",
       "      <th>Rcode_4</th>\n",
       "      <th>Fcode_1</th>\n",
       "      <th>Fcode_2</th>\n",
       "      <th>Fcode_3</th>\n",
       "    </tr>\n",
       "  </thead>\n",
       "  <tbody>\n",
       "    <tr>\n",
       "      <th>0</th>\n",
       "      <td>1</td>\n",
       "      <td>25</td>\n",
       "      <td>1</td>\n",
       "      <td>297.0</td>\n",
       "      <td>14.0</td>\n",
       "      <td>2.0</td>\n",
       "      <td>22.0</td>\n",
       "      <td>0.0</td>\n",
       "      <td>1.0</td>\n",
       "      <td>1.0</td>\n",
       "      <td>...</td>\n",
       "      <td>0</td>\n",
       "      <td>0</td>\n",
       "      <td>1</td>\n",
       "      <td>0</td>\n",
       "      <td>0</td>\n",
       "      <td>0</td>\n",
       "      <td>1</td>\n",
       "      <td>0</td>\n",
       "      <td>1</td>\n",
       "      <td>0</td>\n",
       "    </tr>\n",
       "    <tr>\n",
       "      <th>1</th>\n",
       "      <td>2</td>\n",
       "      <td>29</td>\n",
       "      <td>0</td>\n",
       "      <td>128.0</td>\n",
       "      <td>8.0</td>\n",
       "      <td>2.0</td>\n",
       "      <td>10.0</td>\n",
       "      <td>0.0</td>\n",
       "      <td>0.0</td>\n",
       "      <td>0.0</td>\n",
       "      <td>...</td>\n",
       "      <td>0</td>\n",
       "      <td>1</td>\n",
       "      <td>0</td>\n",
       "      <td>0</td>\n",
       "      <td>0</td>\n",
       "      <td>1</td>\n",
       "      <td>0</td>\n",
       "      <td>0</td>\n",
       "      <td>1</td>\n",
       "      <td>0</td>\n",
       "    </tr>\n",
       "    <tr>\n",
       "      <th>2</th>\n",
       "      <td>3</td>\n",
       "      <td>46</td>\n",
       "      <td>1</td>\n",
       "      <td>138.0</td>\n",
       "      <td>22.0</td>\n",
       "      <td>7.0</td>\n",
       "      <td>56.0</td>\n",
       "      <td>2.0</td>\n",
       "      <td>1.0</td>\n",
       "      <td>2.0</td>\n",
       "      <td>...</td>\n",
       "      <td>0</td>\n",
       "      <td>1</td>\n",
       "      <td>0</td>\n",
       "      <td>0</td>\n",
       "      <td>0</td>\n",
       "      <td>0</td>\n",
       "      <td>1</td>\n",
       "      <td>0</td>\n",
       "      <td>0</td>\n",
       "      <td>1</td>\n",
       "    </tr>\n",
       "    <tr>\n",
       "      <th>3</th>\n",
       "      <td>4</td>\n",
       "      <td>47</td>\n",
       "      <td>1</td>\n",
       "      <td>228.0</td>\n",
       "      <td>2.0</td>\n",
       "      <td>1.0</td>\n",
       "      <td>2.0</td>\n",
       "      <td>0.0</td>\n",
       "      <td>0.0</td>\n",
       "      <td>0.0</td>\n",
       "      <td>...</td>\n",
       "      <td>0</td>\n",
       "      <td>0</td>\n",
       "      <td>1</td>\n",
       "      <td>1</td>\n",
       "      <td>0</td>\n",
       "      <td>0</td>\n",
       "      <td>0</td>\n",
       "      <td>1</td>\n",
       "      <td>0</td>\n",
       "      <td>0</td>\n",
       "    </tr>\n",
       "    <tr>\n",
       "      <th>4</th>\n",
       "      <td>5</td>\n",
       "      <td>51</td>\n",
       "      <td>1</td>\n",
       "      <td>257.0</td>\n",
       "      <td>10.0</td>\n",
       "      <td>1.0</td>\n",
       "      <td>10.0</td>\n",
       "      <td>0.0</td>\n",
       "      <td>0.0</td>\n",
       "      <td>0.0</td>\n",
       "      <td>...</td>\n",
       "      <td>0</td>\n",
       "      <td>0</td>\n",
       "      <td>1</td>\n",
       "      <td>0</td>\n",
       "      <td>0</td>\n",
       "      <td>1</td>\n",
       "      <td>0</td>\n",
       "      <td>1</td>\n",
       "      <td>0</td>\n",
       "      <td>0</td>\n",
       "    </tr>\n",
       "  </tbody>\n",
       "</table>\n",
       "<p>5 rows × 36 columns</p>\n",
       "</div>"
      ],
      "text/plain": [
       "   Seq#  ID#  Gender      M     R    F  FirstPurch  ChildBks  YouthBks  \\\n",
       "0     1   25       1  297.0  14.0  2.0        22.0       0.0       1.0   \n",
       "1     2   29       0  128.0   8.0  2.0        10.0       0.0       0.0   \n",
       "2     3   46       1  138.0  22.0  7.0        56.0       2.0       1.0   \n",
       "3     4   47       1  228.0   2.0  1.0         2.0       0.0       0.0   \n",
       "4     5   51       1  257.0  10.0  1.0        10.0       0.0       0.0   \n",
       "\n",
       "   CookBks  ...  Mcode_3  Mcode_4  Mcode_5  Rcode_1  Rcode_2  Rcode_3  \\\n",
       "0      1.0  ...        0        0        1        0        0        0   \n",
       "1      0.0  ...        0        1        0        0        0        1   \n",
       "2      2.0  ...        0        1        0        0        0        0   \n",
       "3      0.0  ...        0        0        1        1        0        0   \n",
       "4      0.0  ...        0        0        1        0        0        1   \n",
       "\n",
       "   Rcode_4  Fcode_1  Fcode_2  Fcode_3  \n",
       "0        1        0        1        0  \n",
       "1        0        0        1        0  \n",
       "2        1        0        0        1  \n",
       "3        0        1        0        0  \n",
       "4        0        1        0        0  \n",
       "\n",
       "[5 rows x 36 columns]"
      ]
     },
     "execution_count": 7,
     "metadata": {},
     "output_type": "execute_result"
    }
   ],
   "source": [
    "charlesbcfill_df.drop(['Mcode', 'Rcode', 'Fcode'], axis = 1)\n",
    "new_df = pd.concat([charlesbcfill_df, mrfdummies_df], axis=1)\n",
    "new_df.head()"
   ]
  },
  {
   "cell_type": "markdown",
   "metadata": {},
   "source": [
    "## B) Print the number of rows and columns before and after combining the dummy variables"
   ]
  },
  {
   "cell_type": "code",
   "execution_count": 8,
   "metadata": {},
   "outputs": [
    {
     "name": "stdout",
     "output_type": "stream",
     "text": [
      "Number of rows BEFORE merging: 4000\n",
      "Number of columns BEFORE merging: 24\n",
      "\n",
      "Number of rows AFTER merging: 4000\n",
      "Number of columns AFTER merging: 36\n"
     ]
    }
   ],
   "source": [
    "# Check to see if the merge worked\n",
    "print(\"Number of rows BEFORE merging:\", charlesbcfill_df.shape[0])\n",
    "print(\"Number of columns BEFORE merging:\", charlesbcfill_df.shape[1])\n",
    "\n",
    "print(\"\\nNumber of rows AFTER merging:\", new_df.shape[0])\n",
    "print(\"Number of columns AFTER merging:\", new_df.shape[1])"
   ]
  },
  {
   "cell_type": "markdown",
   "metadata": {},
   "source": [
    "# Data Visualization"
   ]
  },
  {
   "cell_type": "markdown",
   "metadata": {},
   "source": [
    "## 1) Provide a bar graph of the following variables:"
   ]
  },
  {
   "cell_type": "markdown",
   "metadata": {},
   "source": [
    "## A) Gender. Comment on what you see. What is the percentage of men and women who responded to the test mailing? Did women respond more? Did men respond more?"
   ]
  },
  {
   "cell_type": "code",
   "execution_count": 9,
   "metadata": {},
   "outputs": [
    {
     "data": {
      "text/plain": [
       "<matplotlib.axes._subplots.AxesSubplot at 0x1f8a5379430>"
      ]
     },
     "execution_count": 9,
     "metadata": {},
     "output_type": "execute_result"
    },
    {
     "data": {
      "image/png": "[encoded data removed]",
      "text/plain": [
       "<Figure size 432x288 with 1 Axes>"
      ]
     },
     "metadata": {
      "needs_background": "light"
     },
     "output_type": "display_data"
    }
   ],
   "source": [
    "new_df['Gender'].value_counts()\n",
    "new_df['Gender'].value_counts().plot(kind='bar')"
   ]
  },
  {
   "cell_type": "code",
   "execution_count": 10,
   "metadata": {},
   "outputs": [
    {
     "data": {
      "text/plain": [
       "1    70.45\n",
       "0    29.55\n",
       "Name: Gender, dtype: float64"
      ]
     },
     "execution_count": 10,
     "metadata": {},
     "output_type": "execute_result"
    }
   ],
   "source": [
    "new_df['Gender'].value_counts(normalize=True) * 100"
   ]
  },
  {
   "cell_type": "markdown",
   "metadata": {},
   "source": [
    "## B) Florence. What percentage of the book was bought? What percentage was not?"
   ]
  },
  {
   "cell_type": "code",
   "execution_count": 11,
   "metadata": {},
   "outputs": [
    {
     "data": {
      "text/plain": [
       "<matplotlib.axes._subplots.AxesSubplot at 0x1f8a5b28be0>"
      ]
     },
     "execution_count": 11,
     "metadata": {},
     "output_type": "execute_result"
    },
    {
     "data": {
      "image/png": "[encoded data removed]",
      "text/plain": [
       "<Figure size 432x288 with 1 Axes>"
      ]
     },
     "metadata": {
      "needs_background": "light"
     },
     "output_type": "display_data"
    }
   ],
   "source": [
    "new_df['Florence'].value_counts()\n",
    "new_df['Florence'].value_counts().plot(kind='bar')"
   ]
  },
  {
   "cell_type": "code",
   "execution_count": 12,
   "metadata": {},
   "outputs": [
    {
     "data": {
      "text/plain": [
       "0    91.55\n",
       "1     8.45\n",
       "Name: Florence, dtype: float64"
      ]
     },
     "execution_count": 12,
     "metadata": {},
     "output_type": "execute_result"
    }
   ],
   "source": [
    "new_df['Florence'].value_counts(normalize=True) * 100"
   ]
  },
  {
   "cell_type": "markdown",
   "metadata": {},
   "source": [
    "## 2) Comparing a numeric variable across a categorical variable"
   ]
  },
  {
   "cell_type": "markdown",
   "metadata": {},
   "source": [
    "## A) Group the data by the variable “Florence”. For this group compute the average of the following variables: M,R,F. Provide a bar chart for each of the scenario"
   ]
  },
  {
   "cell_type": "code",
   "execution_count": 13,
   "metadata": {},
   "outputs": [
    {
     "data": {
      "image/png": "[encoded data removed]",
      "text/plain": [
       "<Figure size 360x216 with 1 Axes>"
      ]
     },
     "metadata": {
      "needs_background": "light"
     },
     "output_type": "display_data"
    }
   ],
   "source": [
    "florence_avg = new_df.groupby('Florence').mean() #Average of ALL variables by Florence\n",
    "m_avg = florence_avg.M #Average M by Florence\n",
    "r_avg = florence_avg.R #Average R by Florence\n",
    "f_avg = florence_avg.F #Average F by Florence\n",
    "\n",
    "# Get bar chart of average M by Florence\n",
    "m_avg.plot(kind='bar', figsize=[5, 3], color=['b','r'])\n",
    "plt.title(\"Average M by Florence\")\n",
    "plt.xlabel(\"Florence\")\n",
    "plt.ylabel(\"M\")\n",
    "plt.show()"
   ]
  },
  {
   "cell_type": "code",
   "execution_count": 14,
   "metadata": {},
   "outputs": [
    {
     "data": {
      "image/png": "[encoded data removed]",
      "text/plain": [
       "<Figure size 360x216 with 1 Axes>"
      ]
     },
     "metadata": {
      "needs_background": "light"
     },
     "output_type": "display_data"
    }
   ],
   "source": [
    "# Get bar chart of average R by Florence\n",
    "r_avg.plot(kind='bar', figsize=[5, 3], color=['b','r'])\n",
    "plt.title(\"Average R by Florence\")\n",
    "plt.xlabel(\"Florence\")\n",
    "plt.ylabel(\"R\")\n",
    "plt.show()"
   ]
  },
  {
   "cell_type": "code",
   "execution_count": 15,
   "metadata": {},
   "outputs": [
    {
     "data": {
      "image/png": "[encoded data removed]",
      "text/plain": [
       "<Figure size 360x216 with 1 Axes>"
      ]
     },
     "metadata": {
      "needs_background": "light"
     },
     "output_type": "display_data"
    }
   ],
   "source": [
    "# Get bar chart of average F by Florence\n",
    "f_avg.plot(kind='bar', figsize=[5, 3], color=['b','r'])\n",
    "plt.title(\"Average F by Florence\")\n",
    "plt.xlabel(\"Florence\")\n",
    "plt.ylabel(\"F\")\n",
    "plt.show()"
   ]
  },
  {
   "cell_type": "markdown",
   "metadata": {},
   "source": [
    "## B) Comments on all three scenarios are in the report."
   ]
  },
  {
   "cell_type": "markdown",
   "metadata": {},
   "source": [
    "## 3) Comparing numeric variables"
   ]
  },
  {
   "cell_type": "markdown",
   "metadata": {},
   "source": [
    "## A) Provide a scatter plot matrix between the following variables: FirstPurch, ChildBks, YouthBks, CookBks, DoItYBks, RefBks, ArtBks, GeoBks, ItalCook, ItalAtlas, ItalArt and Related Purchase"
   ]
  },
  {
   "cell_type": "code",
   "execution_count": 16,
   "metadata": {},
   "outputs": [
    {
     "data": {
      "image/png": "[encoded data removed]",
      "text/plain": [
       "<Figure size 1296x1296 with 121 Axes>"
      ]
     },
     "metadata": {
      "needs_background": "light"
     },
     "output_type": "display_data"
    }
   ],
   "source": [
    "#Create a new dataframe consisting of variables FirstPurch, ChildBks, YouthBks, CookBks, DoltYBks, RefBks, ArtBks,\n",
    "#GeoBks, ItalCook, ItalAtlas, ItalArt, and Related Purchase\n",
    "new_scatter_df = new_df[['FirstPurch', 'ChildBks', 'YouthBks', 'CookBks', 'RefBks', 'ArtBks', 'GeogBks', 'ItalCook',\n",
    "                        'ItalAtlas', 'ItalArt', 'Related Purchase']]\n",
    "\n",
    "pd.plotting.scatter_matrix(new_scatter_df, figsize=(18, 18), diagonal='hist')\n",
    "plt.show()"
   ]
  },
  {
   "cell_type": "markdown",
   "metadata": {},
   "source": [
    "## B) Pick any three variables and comment on their scatter plot. Comments are in the report. Below is another scatterplot matrix containing only the variables chosen. Simply for easier viewing."
   ]
  },
  {
   "cell_type": "code",
   "execution_count": 17,
   "metadata": {},
   "outputs": [
    {
     "data": {
      "image/png": "[encoded data removed]",
      "text/plain": [
       "<Figure size 720x720 with 9 Axes>"
      ]
     },
     "metadata": {
      "needs_background": "light"
     },
     "output_type": "display_data"
    }
   ],
   "source": [
    "chosen_scatter_df = new_df[['FirstPurch', 'CookBks', 'ItalCook']]\n",
    "\n",
    "pd.plotting.scatter_matrix(chosen_scatter_df, figsize=(10, 10), diagonal='hist')\n",
    "plt.show()"
   ]
  },
  {
   "cell_type": "markdown",
   "metadata": {},
   "source": [
    "## 4) Provide a heatmap of all the variables in question 3a. Include their correlation values in the plot."
   ]
  },
  {
   "cell_type": "code",
   "execution_count": 18,
   "metadata": {},
   "outputs": [
    {
     "data": {
      "image/png": "[encoded data removed]",
      "text/plain": [
       "<Figure size 792x504 with 2 Axes>"
      ]
     },
     "metadata": {
      "needs_background": "light"
     },
     "output_type": "display_data"
    }
   ],
   "source": [
    "#Get correlation between variables in 3A\n",
    "corr = new_scatter_df.corr()\n",
    "\n",
    "plt.figure(figsize=(11, 7)) #Set size of heatmap\n",
    "sns.heatmap(corr, annot=True, fmt=\".2f\", xticklabels=corr.columns, yticklabels=corr.columns, cmap=\"RdBu\")\n",
    "plt.show()"
   ]
  },
  {
   "cell_type": "markdown",
   "metadata": {},
   "source": [
    "## A) For the variables in question 3b, does the correlation value in the heatmap confirm your suspicion? Why or why not? Answer is in the report."
   ]
  },
  {
   "cell_type": "markdown",
   "metadata": {},
   "source": [
    "## 5) Provide a side-by-side boxplot of the variables M,R,F by the variable Florence"
   ]
  },
  {
   "cell_type": "code",
   "execution_count": 19,
   "metadata": {},
   "outputs": [
    {
     "data": {
      "image/png": "[encoded data removed]",
      "text/plain": [
       "<Figure size 504x216 with 3 Axes>"
      ]
     },
     "metadata": {
      "needs_background": "light"
     },
     "output_type": "display_data"
    }
   ],
   "source": [
    "fig, axes = plt.subplots(nrows=1, ncols=3, figsize=(7, 3))\n",
    "\n",
    "# regular scale\n",
    "ax = new_df.boxplot(column='M', by='Florence', ax=axes[0])\n",
    "ax.set_xlabel('Florence')\n",
    "ax.set_ylabel('M')\n",
    "\n",
    "ax = new_df.boxplot(column='R', by='Florence', ax=axes[1])\n",
    "ax.set_xlabel('Florence')\n",
    "ax.set_ylabel('R')\n",
    "\n",
    "ax = new_df.boxplot(column='F', by='Florence', ax=axes[2])\n",
    "ax.set_xlabel('Florence')\n",
    "ax.set_ylabel('F')\n",
    "\n",
    "# suppress the title\n",
    "axes[0].get_figure().suptitle('')\n",
    "plt.tight_layout()\n",
    "\n",
    "plt.show()"
   ]
  },
  {
   "cell_type": "markdown",
   "metadata": {},
   "source": [
    "## A) Comments are in the report."
   ]
  },
  {
   "cell_type": "markdown",
   "metadata": {},
   "source": [
    "# Part 2"
   ]
  },
  {
   "cell_type": "markdown",
   "metadata": {},
   "source": [
    "## Modeling"
   ]
  },
  {
   "cell_type": "markdown",
   "metadata": {},
   "source": [
    "## Removing Unwanted Columns"
   ]
  },
  {
   "cell_type": "code",
   "execution_count": 20,
   "metadata": {},
   "outputs": [
    {
     "data": {
      "text/html": [
       "<div>\n",
       "<style scoped>\n",
       "    .dataframe tbody tr th:only-of-type {\n",
       "        vertical-align: middle;\n",
       "    }\n",
       "\n",
       "    .dataframe tbody tr th {\n",
       "        vertical-align: top;\n",
       "    }\n",
       "\n",
       "    .dataframe thead th {\n",
       "        text-align: right;\n",
       "    }\n",
       "</style>\n",
       "<table border=\"1\" class=\"dataframe\">\n",
       "  <thead>\n",
       "    <tr style=\"text-align: right;\">\n",
       "      <th></th>\n",
       "      <th>Gender</th>\n",
       "      <th>M</th>\n",
       "      <th>R</th>\n",
       "      <th>F</th>\n",
       "      <th>FirstPurch</th>\n",
       "      <th>ChildBks</th>\n",
       "      <th>YouthBks</th>\n",
       "      <th>CookBks</th>\n",
       "      <th>DoItYBks</th>\n",
       "      <th>RefBks</th>\n",
       "      <th>...</th>\n",
       "      <th>Mcode_3</th>\n",
       "      <th>Mcode_4</th>\n",
       "      <th>Mcode_5</th>\n",
       "      <th>Rcode_1</th>\n",
       "      <th>Rcode_2</th>\n",
       "      <th>Rcode_3</th>\n",
       "      <th>Rcode_4</th>\n",
       "      <th>Fcode_1</th>\n",
       "      <th>Fcode_2</th>\n",
       "      <th>Fcode_3</th>\n",
       "    </tr>\n",
       "  </thead>\n",
       "  <tbody>\n",
       "    <tr>\n",
       "      <th>0</th>\n",
       "      <td>1</td>\n",
       "      <td>297.0</td>\n",
       "      <td>14.0</td>\n",
       "      <td>2.0</td>\n",
       "      <td>22.0</td>\n",
       "      <td>0.0</td>\n",
       "      <td>1.0</td>\n",
       "      <td>1.0</td>\n",
       "      <td>0.0</td>\n",
       "      <td>0.0</td>\n",
       "      <td>...</td>\n",
       "      <td>0</td>\n",
       "      <td>0</td>\n",
       "      <td>1</td>\n",
       "      <td>0</td>\n",
       "      <td>0</td>\n",
       "      <td>0</td>\n",
       "      <td>1</td>\n",
       "      <td>0</td>\n",
       "      <td>1</td>\n",
       "      <td>0</td>\n",
       "    </tr>\n",
       "    <tr>\n",
       "      <th>1</th>\n",
       "      <td>0</td>\n",
       "      <td>128.0</td>\n",
       "      <td>8.0</td>\n",
       "      <td>2.0</td>\n",
       "      <td>10.0</td>\n",
       "      <td>0.0</td>\n",
       "      <td>0.0</td>\n",
       "      <td>0.0</td>\n",
       "      <td>0.0</td>\n",
       "      <td>0.0</td>\n",
       "      <td>...</td>\n",
       "      <td>0</td>\n",
       "      <td>1</td>\n",
       "      <td>0</td>\n",
       "      <td>0</td>\n",
       "      <td>0</td>\n",
       "      <td>1</td>\n",
       "      <td>0</td>\n",
       "      <td>0</td>\n",
       "      <td>1</td>\n",
       "      <td>0</td>\n",
       "    </tr>\n",
       "    <tr>\n",
       "      <th>2</th>\n",
       "      <td>1</td>\n",
       "      <td>138.0</td>\n",
       "      <td>22.0</td>\n",
       "      <td>7.0</td>\n",
       "      <td>56.0</td>\n",
       "      <td>2.0</td>\n",
       "      <td>1.0</td>\n",
       "      <td>2.0</td>\n",
       "      <td>0.0</td>\n",
       "      <td>1.0</td>\n",
       "      <td>...</td>\n",
       "      <td>0</td>\n",
       "      <td>1</td>\n",
       "      <td>0</td>\n",
       "      <td>0</td>\n",
       "      <td>0</td>\n",
       "      <td>0</td>\n",
       "      <td>1</td>\n",
       "      <td>0</td>\n",
       "      <td>0</td>\n",
       "      <td>1</td>\n",
       "    </tr>\n",
       "    <tr>\n",
       "      <th>3</th>\n",
       "      <td>1</td>\n",
       "      <td>228.0</td>\n",
       "      <td>2.0</td>\n",
       "      <td>1.0</td>\n",
       "      <td>2.0</td>\n",
       "      <td>0.0</td>\n",
       "      <td>0.0</td>\n",
       "      <td>0.0</td>\n",
       "      <td>0.0</td>\n",
       "      <td>0.0</td>\n",
       "      <td>...</td>\n",
       "      <td>0</td>\n",
       "      <td>0</td>\n",
       "      <td>1</td>\n",
       "      <td>1</td>\n",
       "      <td>0</td>\n",
       "      <td>0</td>\n",
       "      <td>0</td>\n",
       "      <td>1</td>\n",
       "      <td>0</td>\n",
       "      <td>0</td>\n",
       "    </tr>\n",
       "    <tr>\n",
       "      <th>4</th>\n",
       "      <td>1</td>\n",
       "      <td>257.0</td>\n",
       "      <td>10.0</td>\n",
       "      <td>1.0</td>\n",
       "      <td>10.0</td>\n",
       "      <td>0.0</td>\n",
       "      <td>0.0</td>\n",
       "      <td>0.0</td>\n",
       "      <td>0.0</td>\n",
       "      <td>0.0</td>\n",
       "      <td>...</td>\n",
       "      <td>0</td>\n",
       "      <td>0</td>\n",
       "      <td>1</td>\n",
       "      <td>0</td>\n",
       "      <td>0</td>\n",
       "      <td>1</td>\n",
       "      <td>0</td>\n",
       "      <td>1</td>\n",
       "      <td>0</td>\n",
       "      <td>0</td>\n",
       "    </tr>\n",
       "  </tbody>\n",
       "</table>\n",
       "<p>5 rows × 32 columns</p>\n",
       "</div>"
      ],
      "text/plain": [
       "   Gender      M     R    F  FirstPurch  ChildBks  YouthBks  CookBks  \\\n",
       "0       1  297.0  14.0  2.0        22.0       0.0       1.0      1.0   \n",
       "1       0  128.0   8.0  2.0        10.0       0.0       0.0      0.0   \n",
       "2       1  138.0  22.0  7.0        56.0       2.0       1.0      2.0   \n",
       "3       1  228.0   2.0  1.0         2.0       0.0       0.0      0.0   \n",
       "4       1  257.0  10.0  1.0        10.0       0.0       0.0      0.0   \n",
       "\n",
       "   DoItYBks  RefBks  ...  Mcode_3  Mcode_4  Mcode_5  Rcode_1  Rcode_2  \\\n",
       "0       0.0     0.0  ...        0        0        1        0        0   \n",
       "1       0.0     0.0  ...        0        1        0        0        0   \n",
       "2       0.0     1.0  ...        0        1        0        0        0   \n",
       "3       0.0     0.0  ...        0        0        1        1        0   \n",
       "4       0.0     0.0  ...        0        0        1        0        0   \n",
       "\n",
       "   Rcode_3  Rcode_4  Fcode_1  Fcode_2  Fcode_3  \n",
       "0        0        1        0        1        0  \n",
       "1        1        0        0        1        0  \n",
       "2        0        1        0        0        1  \n",
       "3        0        0        1        0        0  \n",
       "4        1        0        1        0        0  \n",
       "\n",
       "[5 rows x 32 columns]"
      ]
     },
     "execution_count": 20,
     "metadata": {},
     "output_type": "execute_result"
    }
   ],
   "source": [
    "# Delete the Seq#, ID#, and No_Flornce columns\n",
    "new_df2 = new_df.drop(columns=['Seq#', 'ID#', 'No_Florence','Florence'])\n",
    "new_df2.head()"
   ]
  },
  {
   "cell_type": "markdown",
   "metadata": {},
   "source": [
    "## Check to see if deletion worked."
   ]
  },
  {
   "cell_type": "code",
   "execution_count": 21,
   "metadata": {},
   "outputs": [
    {
     "name": "stdout",
     "output_type": "stream",
     "text": [
      "Number of rows BEFORE merging: 4000\n",
      "Number of columns BEFORE merging: 36\n",
      "\n",
      "Number of rows AFTER merging: 4000\n",
      "Number of columns AFTER merging: 32\n"
     ]
    }
   ],
   "source": [
    "# Check to see if the merge worked\n",
    "print(\"Number of rows BEFORE merging:\", new_df.shape[0])\n",
    "print(\"Number of columns BEFORE merging:\", new_df.shape[1])\n",
    "\n",
    "print(\"\\nNumber of rows AFTER merging:\", new_df2.shape[0])\n",
    "print(\"Number of columns AFTER merging:\", new_df2.shape[1])"
   ]
  },
  {
   "cell_type": "markdown",
   "metadata": {},
   "source": [
    "## Split data and set dependent variable."
   ]
  },
  {
   "cell_type": "code",
   "execution_count": 22,
   "metadata": {},
   "outputs": [
    {
     "ename": "NameError",
     "evalue": "name 'std_X_df' is not defined",
     "output_type": "error",
     "traceback": [
      "\u001b[1;31m---------------------------------------------------------------------------\u001b[0m",
      "\u001b[1;31mNameError\u001b[0m                                 Traceback (most recent call last)",
      "\u001b[1;32m<ipython-input-22-df571cb0c1a5>\u001b[0m in \u001b[0;36m<module>\u001b[1;34m\u001b[0m\n\u001b[0;32m     16\u001b[0m \u001b[0mstd_test_df\u001b[0m \u001b[1;33m=\u001b[0m \u001b[0mpd\u001b[0m\u001b[1;33m.\u001b[0m\u001b[0mDataFrame\u001b[0m\u001b[1;33m(\u001b[0m\u001b[0mstd_X_test\u001b[0m\u001b[1;33m,\u001b[0m \u001b[0mcolumns\u001b[0m\u001b[1;33m=\u001b[0m\u001b[0mtest_X\u001b[0m\u001b[1;33m.\u001b[0m\u001b[0mcolumns\u001b[0m\u001b[1;33m)\u001b[0m\u001b[1;33m\u001b[0m\u001b[1;33m\u001b[0m\u001b[0m\n\u001b[0;32m     17\u001b[0m \u001b[1;33m\u001b[0m\u001b[0m\n\u001b[1;32m---> 18\u001b[1;33m \u001b[0mstd_X_df\u001b[0m\u001b[1;33m.\u001b[0m\u001b[0mhead\u001b[0m\u001b[1;33m(\u001b[0m\u001b[1;33m)\u001b[0m\u001b[1;33m\u001b[0m\u001b[1;33m\u001b[0m\u001b[0m\n\u001b[0m",
      "\u001b[1;31mNameError\u001b[0m: name 'std_X_df' is not defined"
     ]
    }
   ],
   "source": [
    "from sklearn.model_selection import train_test_split\n",
    "from sklearn.preprocessing import StandardScaler\n",
    "\n",
    "# Identify dependent and independent variables\n",
    "y = new_df2['Yes_Florence']\n",
    "X = new_df2.drop(columns=['Yes_Florence'])\n",
    "\n",
    "# Partition data into training (80%) and testing (20%)\n",
    "train_X, test_X, train_y, test_y = train_test_split(X, y, test_size=0.2, random_state=1)\n",
    "\n",
    "#Standardize independent variables in ALL data (zero mean and unit variance)\n",
    "std_X_train = StandardScaler().fit_transform(train_X)\n",
    "std_X_test = StandardScaler().fit_transform(test_X)\n",
    "\n",
    "std_train_df = pd.DataFrame(std_X_train, columns=train_X.columns)\n",
    "std_test_df = pd.DataFrame(std_X_test, columns=test_X.columns)\n",
    "\n",
    "std_X_df.head()"
   ]
  },
  {
   "cell_type": "markdown",
   "metadata": {},
   "source": [
    "## Decision Tree"
   ]
  },
  {
   "cell_type": "code",
   "execution_count": null,
   "metadata": {},
   "outputs": [],
   "source": [
    "from sklearn.tree import DecisionTreeClassifier\n",
    "from sklearn.model_selection import GridSearchCV\n",
    "from dmba import plotDecisionTree\n",
    "\n",
    "# Parameters for grid search\n",
    "parameters = {\n",
    "    'max_depth': list(range(2, 11)), \n",
    "    'min_samples_split': list(range(10, 22)), \n",
    "    'min_impurity_decrease': [0.0009, 0.001, 0.0011],\n",
    "}\n",
    "\n",
    "grid_search = GridSearchCV(DecisionTreeClassifier(), parameters, cv=10, n_jobs=-1, scoring=\"accuracy\")\n",
    "grid_search.fit(train_X, train_y)\n",
    "\n",
    "# Best decision tree from the grid search\n",
    "best_tree = grid_search.best_estimator_\n",
    "\n",
    "# PLot the best tree\n",
    "#plotDecisionTree(best_tree, feature_names=train_X.columns)\n",
    "\n",
    "# Decision Tree (Best) class label for training and testing data\n",
    "dt_pred_train = best_tree.predict(train_X)\n",
    "dt_pred_test = best_tree.predict(test_X)"
   ]
  },
  {
   "cell_type": "markdown",
   "metadata": {},
   "source": [
    "## Logistic Regression, kNN, and LDA"
   ]
  },
  {
   "cell_type": "code",
   "execution_count": null,
   "metadata": {},
   "outputs": [],
   "source": [
    "from sklearn.discriminant_analysis import LinearDiscriminantAnalysis\n",
    "from sklearn.neighbors import KNeighborsClassifier\n",
    "from sklearn.linear_model import LogisticRegression\n",
    "\n",
    "# fit kNN model\n",
    "knn = KNeighborsClassifier(n_neighbors=5)\n",
    "knn.fit(std_train_df, train_y)\n",
    "\n",
    "# fit discriminant analysis model\n",
    "da = LinearDiscriminantAnalysis()\n",
    "da.fit(train_X, train_y)\n",
    "\n",
    "# fit a logistic regression\n",
    "log = LogisticRegression(fit_intercept=True, C=1e42, solver='liblinear')\n",
    "log.fit(train_X, train_y)"
   ]
  },
  {
   "cell_type": "code",
   "execution_count": null,
   "metadata": {},
   "outputs": [],
   "source": [
    "# kNN class label for training and testing data\n",
    "knn_pred_train = knn.predict(std_train_df)\n",
    "knn_pred_test = knn.predict(std_test_df)\n",
    "\n",
    "# discriminant analysis class label for training and testing data\n",
    "da_pred_train = da.predict(train_X)\n",
    "da_pred_test = da.predict(test_X)\n",
    "\n",
    "# discriminant analysis class label for training and testing data\n",
    "log_pred_train = log.predict(train_X)\n",
    "log_pred_test = log.predict(test_X)\n",
    "\n",
    "# Summary of training data predictions\n",
    "pred_summary = pd.DataFrame({\"Actual_Class\": train_y, \"kNN_Prediction\": knn_pred_train,\\\n",
    "                             \"DA_Prediction\":da_pred_train,\\\n",
    "                             \"Logistic_Prediction\":log_pred_train})\n",
    "\n",
    "print(\"Class predictions for training data\")\n",
    "pred_summary.head(10)"
   ]
  },
  {
   "cell_type": "markdown",
   "metadata": {},
   "source": [
    "## Neural Networks"
   ]
  },
  {
   "cell_type": "markdown",
   "metadata": {},
   "source": [
    "### Check for the effects of overfitting: Check difference between training and testing metric - accuracy"
   ]
  },
  {
   "cell_type": "code",
   "execution_count": null,
   "metadata": {},
   "outputs": [],
   "source": [
    "from sklearn.neural_network import MLPClassifier\n",
    "from dmba import classificationSummary\n",
    "from sklearn.preprocessing import MinMaxScaler\n",
    "from sklearn.model_selection import cross_val_score\n",
    "\n",
    "# Scaling the data for MLP classifier. Values will be between 0 and 1\n",
    "scaler = MinMaxScaler()\n",
    "scaled_data_train = pd.DataFrame(scaler.fit_transform(train_X), columns=train_X.columns)\n",
    "scaled_data_test = pd.DataFrame(scaler.fit_transform(test_X), columns=test_X.columns)\n",
    "\n",
    "# fit MLP (MultiLayer Perceptron) model Did ONE hidden layer was 3\n",
    "mlp = MLPClassifier(hidden_layer_sizes=1, activation='logistic', solver='lbfgs', random_state=1, max_iter=300)\n",
    "mlp.fit(scaled_data_train, train_y)\n",
    "\n",
    "print(\"***Confusion matrix and accuracy for training data\")\n",
    "classificationSummary(train_y, mlp.predict(scaled_data_train))\n",
    "\n",
    "print(\"\\n\\n***Confusion matrix and accuracy for testing data\")\n",
    "classificationSummary(test_y, mlp.predict(scaled_data_test))\n",
    "\n",
    "# Check cross-validation\n",
    "acc_scores = cross_val_score(mlp, train_X, train_y, cv=10, scoring=\"accuracy\")\n",
    "print(\"\\n\\n***MLP accuracy using 10-fold cv:\", round(acc_scores.mean(), 4))"
   ]
  },
  {
   "cell_type": "code",
   "execution_count": null,
   "metadata": {},
   "outputs": [],
   "source": [
    "# MLP class label for training and testing data\n",
    "mlp_pred_train = mlp.predict(scaled_data_train)\n",
    "mlp_pred_test = mlp.predict(scaled_data_test)"
   ]
  },
  {
   "cell_type": "markdown",
   "metadata": {},
   "source": [
    "# Check for the effects of overfitting: Check maximum number of iterations - max iter\n"
   ]
  },
  {
   "cell_type": "code",
   "execution_count": null,
   "metadata": {},
   "outputs": [],
   "source": [
    "# Not sure this step is needed per the instructions of your email\n",
    "train_mis_rate = []\n",
    "test_mis_rate = []\n",
    "\n",
    "num = 301\n",
    "for i in range(1, num):    \n",
    "    mlp_cv = MLPClassifier(hidden_layer_sizes=1, activation='logistic', solver='lbfgs', random_state=1, max_iter=i)\n",
    "\n",
    "    #Accuracy rate for testing and training data using 5-fold cross validation\n",
    "    #train_acc = cross_val_score(mlp_cv, scaled_data_train, train_y, cv=5, scoring=\"accuracy\").mean()\n",
    "    #test_acc = cross_val_score(mlp_cv, scaled_data_test, test_y, cv=5, scoring=\"accuracy\").mean()\n",
    "\n",
    "    #train_mis_rate.append(1 - train_acc) #Misclassification rate for training data\n",
    "    #test_mis_rate.append(1 - test_acc)   #Misclassification rate for testing data\n",
    "\n",
    "# Plot misclassification rate for training and testing data\n",
    "#plt.plot(np.arange(1, num), train_mis_rate, label=\"Training Data\")\n",
    "#plt.plot(np.arange(1, num), test_mis_rate, label=\"Testing Data\")\n",
    "#plt.title(\"Overfitting\")\n",
    "#plt.xlabel(\"Iterations\")\n",
    "#plt.ylabel(\"Misclassification Rates\")\n",
    "#plt.legend(loc=\"upper right\")\n",
    "#plt.show()"
   ]
  },
  {
   "cell_type": "markdown",
   "metadata": {},
   "source": [
    "# Model Evaluation"
   ]
  },
  {
   "cell_type": "markdown",
   "metadata": {},
   "source": [
    "## 10-Fold Cross Validation (I changed train to test data, still 100%)"
   ]
  },
  {
   "cell_type": "markdown",
   "metadata": {},
   "source": [
    "## Decision Tree"
   ]
  },
  {
   "cell_type": "code",
   "execution_count": null,
   "metadata": {},
   "outputs": [],
   "source": [
    "from sklearn.model_selection import cross_val_score, GridSearchCV\n",
    "\n",
    "# Ten-fold cross-validation of the kNN classifier\n",
    "scores = cross_val_score(best_tree, test_X, test_y, cv=10)\n",
    "\n",
    "# Print average accuracy score\n",
    "avg_acc = scores.mean()\n",
    "avg_mis = (1 - avg_acc)\n",
    "\n",
    "print(\"Average accuracy score:\", round(avg_acc, 3))\n",
    "print(\"Average misclassification score:\", round(avg_mis, 3))\n",
    "\n",
    "# The average misclassification score implies the model is wrong 8.3% of the time. "
   ]
  },
  {
   "cell_type": "markdown",
   "metadata": {},
   "source": [
    "## kNN"
   ]
  },
  {
   "cell_type": "code",
   "execution_count": null,
   "metadata": {},
   "outputs": [],
   "source": [
    "# Before cross validation\n",
    "classificationSummary(test_y, knn_pred_test)\n",
    "\n",
    "# Ten-fold cross-validation of the kNN classifier\n",
    "scores = cross_val_score(knn, std_test_df, test_y, cv=10)\n",
    "\n",
    "# Print average accuracy score\n",
    "avg_acc = scores.mean()\n",
    "avg_mis = (1 - avg_acc)\n",
    "print(\"Average accuracy score:\", round(avg_acc, 3))\n",
    "print(\"Average misclassification score:\", round(avg_mis, 3))\n",
    "\n",
    "# The average misclassification score implies the model is wrong 8.5% of the time. "
   ]
  },
  {
   "cell_type": "markdown",
   "metadata": {},
   "source": [
    "## Discriminant Analysis"
   ]
  },
  {
   "cell_type": "code",
   "execution_count": null,
   "metadata": {},
   "outputs": [],
   "source": [
    "da_reg = LinearDiscriminantAnalysis()\n",
    "da_reg.fit(train_X, train_y)\n",
    "\n",
    "# Get the intercept and coefficients of the linear discriminant analysis\n",
    "da_intercept = da_reg.intercept_[0]\n",
    "da_coeff = da_reg.coef_[0]\n",
    "\n",
    "# Print intercept and model coefficients\n",
    "print('Linear discriminant analysis intercept: ', da_intercept)\n",
    "print(\"Linear discriminant analysis variables and their coefficients:\")\n",
    "pd.DataFrame({'coeff': da_coeff}, index=train_X.columns) #DataFrame of variables and coeff\n",
    "\n",
    "# Get the class predictions of the model, along with its probabilities \n",
    "da_train_pred = da_reg.predict(train_X)\n",
    "da_train_pred = da_reg.predict_proba(train_X)\n"
   ]
  },
  {
   "cell_type": "code",
   "execution_count": null,
   "metadata": {},
   "outputs": [],
   "source": [
    "# Before cross validation\n",
    "classificationSummary(test_y, da_pred_test)\n",
    "\n",
    "# Ten-fold cross-validation of the DA classifier\n",
    "scores = cross_val_score(da, test_X, test_y, cv=10)\n",
    "\n",
    "# Print average accuracy score\n",
    "avg_acc = scores.mean()\n",
    "avg_mis = (1 - avg_acc)\n",
    "print(\"Average accuracy score:\", round(avg_acc, 3))\n",
    "print(\"Average misclassification score:\", round(avg_mis, 3))\n",
    "\n",
    "# The average misclassification score implies the model is wrong 8.1% of the time. "
   ]
  },
  {
   "cell_type": "markdown",
   "metadata": {},
   "source": [
    "## Logistic Regression"
   ]
  },
  {
   "cell_type": "code",
   "execution_count": null,
   "metadata": {},
   "outputs": [],
   "source": [
    "# Before cross validation\n",
    "classificationSummary(test_y, log_pred_test)\n",
    "\n",
    "# Ten-fold cross-validation of the Logistic Regression classifier\n",
    "scores = cross_val_score(log, test_X, test_y, cv=10)\n",
    "\n",
    "# Print average accuracy score\n",
    "avg_acc = scores.mean()\n",
    "avg_mis = (1 - avg_acc)\n",
    "print(\"Average accuracy score:\", round(avg_acc, 3))\n",
    "print(\"Average misclassification score:\", round(avg_mis, 3))\n",
    "\n",
    "# The average misclassification score implies the model is wrong 7.8% of the time. "
   ]
  },
  {
   "cell_type": "markdown",
   "metadata": {},
   "source": [
    "# Neural Networks"
   ]
  },
  {
   "cell_type": "code",
   "execution_count": null,
   "metadata": {},
   "outputs": [],
   "source": [
    "# Before cross validation\n",
    "classificationSummary(test_y, mlp_pred_test)\n",
    "\n",
    "# Ten-fold cross-validation of the kNN classifier\n",
    "scores = cross_val_score(mlp, std_test_df, test_y, cv=10)\n",
    "\n",
    "# Print average accuracy score\n",
    "avg_acc = scores.mean()\n",
    "avg_mis = (1 - avg_acc)\n",
    "print(\"Average accuracy score:\", round(avg_acc, 3))\n",
    "print(\"Average misclassification score:\", round(avg_mis, 3))\n",
    "\n",
    "# The average misclassification score implies the model is wrong 7.8% of the time. "
   ]
  },
  {
   "cell_type": "markdown",
   "metadata": {},
   "source": [
    "## Which model is best?"
   ]
  },
  {
   "cell_type": "markdown",
   "metadata": {},
   "source": [
    "### Both neural networks and logistic models have the same accuracy score of 0.922. \n",
    "### The data is heavility skewed for negitive results therefore the true postiives for each model are very small relative to data set."
   ]
  },
  {
   "cell_type": "markdown",
   "metadata": {},
   "source": [
    "## ROC Curves"
   ]
  },
  {
   "cell_type": "code",
   "execution_count": null,
   "metadata": {},
   "outputs": [],
   "source": [
    "from sklearn.metrics import roc_curve\n",
    "from sklearn.metrics import roc_auc_score\n",
    "\n",
    "# Calculate AUC for test data\n",
    "mlp_auc_test = roc_auc_score(test_y, mlp_pred_test)\n",
    "dt_auc_test = roc_auc_score(test_y, dt_pred_test)\n",
    "knn_auc_test = roc_auc_score(test_y, knn_pred_test)\n",
    "da_auc_test = roc_auc_score(test_y, da_pred_test)\n",
    "log_auc_test = roc_auc_score(test_y, log_pred_test)\n",
    "\n",
    "# calculate fpr and tpr for logistic regression and linear discriminant analysis\n",
    "mlp_fpr_test, mlp_tpr_test, _ = roc_curve(test_y, mlp_pred_test)\n",
    "dt_fpr_test, dt_tpr_test, _ = roc_curve(test_y, dt_pred_test)\n",
    "knn_fpr_test, knn_tpr_test, _ = roc_curve(test_y, knn_pred_test)\n",
    "da_fpr_test, da_tpr_test, _ = roc_curve(test_y, da_pred_test)\n",
    "log_fpr_test, log_tpr_test, _ = roc_curve(test_y, log_pred_test)\n",
    "\n",
    "# Plotting\n",
    "plt.plot(mlp_fpr_test, mlp_tpr_test, linestyle='--', label=\"{}{:.3f}\".format(\"MLP AUC=\", mlp_auc_test))\n",
    "plt.plot(dt_fpr_test, dt_tpr_test, linestyle='--', label=\"{}{:.3f}\".format(\"DT AUC=\", dt_auc_test))\n",
    "plt.plot(knn_fpr_test, knn_tpr_test, linestyle='--', label=\"{}{:.3f}\".format(\"kNN AUC=\", knn_auc_test))\n",
    "plt.plot(da_fpr_test, da_tpr_test, linestyle='--', label=\"{}{:.3f}\".format(\"LDA AUC=\", da_auc_test))\n",
    "plt.plot(log_fpr_test, log_tpr_test, linestyle='--', label=\"{}{:.3f}\".format(\"Log. Reg AUC=\", log_auc_test))\n",
    "plt.plot([0, 1], [0, 1], linestyle='solid', c='k')\n",
    "\n",
    "plt.title(\"LDA vs. Logistic Regression vs KNN vs DT vs MLP\")\n",
    "plt.xlabel(\"False Positive Rate\")\n",
    "plt.ylabel(\"True Positive Rate\")\n",
    "plt.legend(loc='lower right')\n",
    "plt.show()\n",
    "\n",
    "# The data set isn't a good data set. Based on the ROC curves MLP is the best model and the KNN at 0.497 is the worst. All the models are not any better than simply guessing. "
   ]
  },
  {
   "cell_type": "markdown",
   "metadata": {},
   "source": [
    "## Lift Charts"
   ]
  },
  {
   "cell_type": "code",
   "execution_count": null,
   "metadata": {},
   "outputs": [],
   "source": [
    "from dmba import gainsChart, liftChart\n",
    "\n",
    "knn_pred_class = knn_pred_test\n",
    "test_pred_prob = knn.predict_proba(test_X)\n",
    "\n",
    "pred_summary = pd.DataFrame({\"Actual_Class\": test_y, \"Predicted_Class\": knn_pred_test,\\\n",
    "                             \"P(Y=0)\":test_pred_prob[:,0], \"P(Y=1)\":test_pred_prob[:,1]})\n",
    "\n",
    "# Create the Gains table\n",
    "gains_table = pred_summary.sort_values(by='P(Y=1)', ascending=False)\n",
    "\n",
    "# Plot Gains and Decile chart\n",
    "fig, axes = plt.subplots(nrows=1, ncols=2, figsize=(10,4))\n",
    "gainsChart(gains_table.Actual_Class, ax=axes[0])\n",
    "liftChart(gains_table.Actual_Class, ax=axes[1])\n",
    "plt.show()\n",
    "\n",
    "### Our models aren't giving us a good prediction. The lift charts and cumilitative gains models do not perform signifigantly better than using no model at all. "
   ]
  },
  {
   "cell_type": "code",
   "execution_count": 23,
   "metadata": {},
   "outputs": [
    {
     "ename": "NameError",
     "evalue": "name 'log_pred_test' is not defined",
     "output_type": "error",
     "traceback": [
      "\u001b[1;31m---------------------------------------------------------------------------\u001b[0m",
      "\u001b[1;31mNameError\u001b[0m                                 Traceback (most recent call last)",
      "\u001b[1;32m<ipython-input-23-589543a63bb3>\u001b[0m in \u001b[0;36m<module>\u001b[1;34m\u001b[0m\n\u001b[0;32m      1\u001b[0m \u001b[1;32mfrom\u001b[0m \u001b[0mdmba\u001b[0m \u001b[1;32mimport\u001b[0m \u001b[0mgainsChart\u001b[0m\u001b[1;33m,\u001b[0m \u001b[0mliftChart\u001b[0m\u001b[1;33m\u001b[0m\u001b[1;33m\u001b[0m\u001b[0m\n\u001b[0;32m      2\u001b[0m \u001b[1;33m\u001b[0m\u001b[0m\n\u001b[1;32m----> 3\u001b[1;33m \u001b[0mlog_pred_class\u001b[0m \u001b[1;33m=\u001b[0m \u001b[0mlog_pred_test\u001b[0m\u001b[1;33m\u001b[0m\u001b[1;33m\u001b[0m\u001b[0m\n\u001b[0m\u001b[0;32m      4\u001b[0m \u001b[0mtest_pred_prob\u001b[0m \u001b[1;33m=\u001b[0m \u001b[0mlog\u001b[0m\u001b[1;33m.\u001b[0m\u001b[0mpredict_proba\u001b[0m\u001b[1;33m(\u001b[0m\u001b[0mtest_X\u001b[0m\u001b[1;33m)\u001b[0m\u001b[1;33m\u001b[0m\u001b[1;33m\u001b[0m\u001b[0m\n\u001b[0;32m      5\u001b[0m \u001b[1;33m\u001b[0m\u001b[0m\n",
      "\u001b[1;31mNameError\u001b[0m: name 'log_pred_test' is not defined"
     ]
    }
   ],
   "source": [
    "from dmba import gainsChart, liftChart\n",
    "\n",
    "log_pred_class = log_pred_test\n",
    "test_pred_prob = log.predict_proba(test_X)\n",
    "\n",
    "pred_summary = pd.DataFrame({\"Actual_Class\": test_y, \"Predicted_Class\": log_pred_test,\\\n",
    "                             \"P(Y=0)\":test_pred_prob[:,0], \"P(Y=1)\":test_pred_prob[:,1]})\n",
    "\n",
    "# Create the Gains table\n",
    "gains_table = pred_summary.sort_values(by='P(Y=1)', ascending=False)\n",
    "\n",
    "# Plot Gains and Decile chart\n",
    "fig, axes = plt.subplots(nrows=1, ncols=2, figsize=(10,4))\n",
    "gainsChart(gains_table.Actual_Class, ax=axes[0])\n",
    "liftChart(gains_table.Actual_Class, ax=axes[1])\n",
    "plt.show()\n",
    "\n",
    "### Our models aren't giving us a good prediction. The lift charts and cumilitative gains models do not perform signifigantly better than using no model at all. "
   ]
  },
  {
   "cell_type": "code",
   "execution_count": 24,
   "metadata": {},
   "outputs": [
    {
     "ename": "NameError",
     "evalue": "name 'da_pred_test' is not defined",
     "output_type": "error",
     "traceback": [
      "\u001b[1;31m---------------------------------------------------------------------------\u001b[0m",
      "\u001b[1;31mNameError\u001b[0m                                 Traceback (most recent call last)",
      "\u001b[1;32m<ipython-input-24-59efe606fc7f>\u001b[0m in \u001b[0;36m<module>\u001b[1;34m\u001b[0m\n\u001b[0;32m      1\u001b[0m \u001b[1;32mfrom\u001b[0m \u001b[0mdmba\u001b[0m \u001b[1;32mimport\u001b[0m \u001b[0mgainsChart\u001b[0m\u001b[1;33m,\u001b[0m \u001b[0mliftChart\u001b[0m\u001b[1;33m\u001b[0m\u001b[1;33m\u001b[0m\u001b[0m\n\u001b[0;32m      2\u001b[0m \u001b[1;33m\u001b[0m\u001b[0m\n\u001b[1;32m----> 3\u001b[1;33m \u001b[0mda_pred_class\u001b[0m \u001b[1;33m=\u001b[0m \u001b[0mda_pred_test\u001b[0m\u001b[1;33m\u001b[0m\u001b[1;33m\u001b[0m\u001b[0m\n\u001b[0m\u001b[0;32m      4\u001b[0m \u001b[0mtest_pred_prob\u001b[0m \u001b[1;33m=\u001b[0m \u001b[0mda\u001b[0m\u001b[1;33m.\u001b[0m\u001b[0mpredict_proba\u001b[0m\u001b[1;33m(\u001b[0m\u001b[0mtest_X\u001b[0m\u001b[1;33m)\u001b[0m\u001b[1;33m\u001b[0m\u001b[1;33m\u001b[0m\u001b[0m\n\u001b[0;32m      5\u001b[0m \u001b[1;33m\u001b[0m\u001b[0m\n",
      "\u001b[1;31mNameError\u001b[0m: name 'da_pred_test' is not defined"
     ]
    }
   ],
   "source": [
    "from dmba import gainsChart, liftChart\n",
    "\n",
    "da_pred_class = da_pred_test\n",
    "test_pred_prob = da.predict_proba(test_X)\n",
    "\n",
    "pred_summary = pd.DataFrame({\"Actual_Class\": test_y, \"Predicted_Class\": da_pred_test,\\\n",
    "                             \"P(Y=0)\":test_pred_prob[:,0], \"P(Y=1)\":test_pred_prob[:,1]})\n",
    "\n",
    "# Create the Gains table\n",
    "gains_table = pred_summary.sort_values(by='P(Y=1)', ascending=False)\n",
    "\n",
    "# Plot Gains and Decile chart\n",
    "fig, axes = plt.subplots(nrows=1, ncols=2, figsize=(10,4))\n",
    "gainsChart(gains_table.Actual_Class, ax=axes[0])\n",
    "liftChart(gains_table.Actual_Class, ax=axes[1])\n",
    "plt.show()\n",
    "\n",
    "### Our models aren't giving us a good prediction. The lift charts and cumilitative gains models do not perform signifigantly better than using no model at all. "
   ]
  },
  {
   "cell_type": "markdown",
   "metadata": {},
   "source": [
    "from dmba import gainsChart, liftChart\n",
    "\n",
    "dt_pred_class = dt_pred_test\n",
    "test_pred_prob = best_tree.predict_proba(test_X)\n",
    "\n",
    "pred_summary = pd.DataFrame({\"Actual_Class\": test_y, \"Predicted_Class\": dt_pred_test,\\\n",
    "                             \"P(Y=0)\":test_pred_prob[:,0], \"P(Y=1)\":test_pred_prob[:,1]})\n",
    "\n",
    "# Create the Gains table\n",
    "gains_table = pred_summary.sort_values(by='P(Y=1)', ascending=False)\n",
    "\n",
    "# Plot Gains and Decile chart\n",
    "fig, axes = plt.subplots(nrows=1, ncols=2, figsize=(10,4))\n",
    "gainsChart(gains_table.Actual_Class, ax=axes[0])\n",
    "liftChart(gains_table.Actual_Class, ax=axes[1])\n",
    "plt.show()\n",
    "\n",
    "### Our models aren't giving us a good prediction. The lift charts and cumilitative gains models do not perform signifigantly better than using no model at all. "
   ]
  },
  {
   "cell_type": "code",
   "execution_count": 25,
   "metadata": {},
   "outputs": [
    {
     "ename": "NameError",
     "evalue": "name 'mlp_pred_test' is not defined",
     "output_type": "error",
     "traceback": [
      "\u001b[1;31m---------------------------------------------------------------------------\u001b[0m",
      "\u001b[1;31mNameError\u001b[0m                                 Traceback (most recent call last)",
      "\u001b[1;32m<ipython-input-25-34c22033f3ca>\u001b[0m in \u001b[0;36m<module>\u001b[1;34m\u001b[0m\n\u001b[0;32m      1\u001b[0m \u001b[1;32mfrom\u001b[0m \u001b[0mdmba\u001b[0m \u001b[1;32mimport\u001b[0m \u001b[0mgainsChart\u001b[0m\u001b[1;33m,\u001b[0m \u001b[0mliftChart\u001b[0m\u001b[1;33m\u001b[0m\u001b[1;33m\u001b[0m\u001b[0m\n\u001b[0;32m      2\u001b[0m \u001b[1;33m\u001b[0m\u001b[0m\n\u001b[1;32m----> 3\u001b[1;33m \u001b[0mmlp_pred_class\u001b[0m \u001b[1;33m=\u001b[0m \u001b[0mmlp_pred_test\u001b[0m\u001b[1;33m\u001b[0m\u001b[1;33m\u001b[0m\u001b[0m\n\u001b[0m\u001b[0;32m      4\u001b[0m \u001b[0mtest_pred_prob\u001b[0m \u001b[1;33m=\u001b[0m \u001b[0mmlp\u001b[0m\u001b[1;33m.\u001b[0m\u001b[0mpredict_proba\u001b[0m\u001b[1;33m(\u001b[0m\u001b[0mtest_X\u001b[0m\u001b[1;33m)\u001b[0m\u001b[1;33m\u001b[0m\u001b[1;33m\u001b[0m\u001b[0m\n\u001b[0;32m      5\u001b[0m \u001b[1;33m\u001b[0m\u001b[0m\n",
      "\u001b[1;31mNameError\u001b[0m: name 'mlp_pred_test' is not defined"
     ]
    }
   ],
   "source": [
    "from dmba import gainsChart, liftChart\n",
    "\n",
    "mlp_pred_class = mlp_pred_test\n",
    "test_pred_prob = mlp.predict_proba(test_X)\n",
    "\n",
    "pred_summary = pd.DataFrame({\"Actual_Class\": test_y, \"Predicted_Class\": dt_pred_test,\\\n",
    "                             \"P(Y=0)\":test_pred_prob[:,0], \"P(Y=1)\":test_pred_prob[:,1]})\n",
    "\n",
    "# Create the Gains table\n",
    "gains_table = pred_summary.sort_values(by='P(Y=1)', ascending=False)\n",
    "\n",
    "# Plot Gains and Decile chart\n",
    "fig, axes = plt.subplots(nrows=1, ncols=2, figsize=(10,4))\n",
    "gainsChart(gains_table.Actual_Class, ax=axes[0])\n",
    "liftChart(gains_table.Actual_Class, ax=axes[1])\n",
    "plt.show()\n",
    "\n",
    "### Our models aren't giving us a good prediction. The lift charts and cumilitative gains models do not perform signifigantly better than using no model at all. "
   ]
  },
  {
   "cell_type": "markdown",
   "metadata": {},
   "source": [
    "# Part 3\n"
   ]
  },
  {
   "cell_type": "markdown",
   "metadata": {},
   "source": [
    "## Classification Modeling\n"
   ]
  },
  {
   "cell_type": "markdown",
   "metadata": {},
   "source": [
    "\n",
    "    ## Identify dependent and independent variables\n",
    "    ## Partition the data such that 80% is used for training and 20% is used for testing\n",
    "\n"
   ]
  },
  {
   "cell_type": "code",
   "execution_count": 29,
   "metadata": {},
   "outputs": [
    {
     "data": {
      "text/html": [
       "<div>\n",
       "<style scoped>\n",
       "    .dataframe tbody tr th:only-of-type {\n",
       "        vertical-align: middle;\n",
       "    }\n",
       "\n",
       "    .dataframe tbody tr th {\n",
       "        vertical-align: top;\n",
       "    }\n",
       "\n",
       "    .dataframe thead th {\n",
       "        text-align: right;\n",
       "    }\n",
       "</style>\n",
       "<table border=\"1\" class=\"dataframe\">\n",
       "  <thead>\n",
       "    <tr style=\"text-align: right;\">\n",
       "      <th></th>\n",
       "      <th>Gender</th>\n",
       "      <th>R</th>\n",
       "      <th>F</th>\n",
       "      <th>FirstPurch</th>\n",
       "      <th>ChildBks</th>\n",
       "      <th>YouthBks</th>\n",
       "      <th>CookBks</th>\n",
       "      <th>DoItYBks</th>\n",
       "      <th>RefBks</th>\n",
       "      <th>ArtBks</th>\n",
       "      <th>GeogBks</th>\n",
       "      <th>ItalCook</th>\n",
       "      <th>ItalAtlas</th>\n",
       "      <th>ItalArt</th>\n",
       "      <th>Yes_Florence</th>\n",
       "    </tr>\n",
       "  </thead>\n",
       "  <tbody>\n",
       "    <tr>\n",
       "      <th>3757</th>\n",
       "      <td>1</td>\n",
       "      <td>6.0</td>\n",
       "      <td>11.0</td>\n",
       "      <td>66.0</td>\n",
       "      <td>1.0</td>\n",
       "      <td>0.0</td>\n",
       "      <td>1.0</td>\n",
       "      <td>4.0</td>\n",
       "      <td>0.0</td>\n",
       "      <td>1.0</td>\n",
       "      <td>2.0</td>\n",
       "      <td>0.0</td>\n",
       "      <td>2.0</td>\n",
       "      <td>0.0</td>\n",
       "      <td>1</td>\n",
       "    </tr>\n",
       "    <tr>\n",
       "      <th>962</th>\n",
       "      <td>1</td>\n",
       "      <td>2.0</td>\n",
       "      <td>1.0</td>\n",
       "      <td>2.0</td>\n",
       "      <td>0.0</td>\n",
       "      <td>0.0</td>\n",
       "      <td>0.0</td>\n",
       "      <td>0.0</td>\n",
       "      <td>0.0</td>\n",
       "      <td>0.0</td>\n",
       "      <td>0.0</td>\n",
       "      <td>0.0</td>\n",
       "      <td>0.0</td>\n",
       "      <td>0.0</td>\n",
       "      <td>1</td>\n",
       "    </tr>\n",
       "    <tr>\n",
       "      <th>852</th>\n",
       "      <td>1</td>\n",
       "      <td>8.0</td>\n",
       "      <td>11.0</td>\n",
       "      <td>32.0</td>\n",
       "      <td>1.0</td>\n",
       "      <td>0.0</td>\n",
       "      <td>1.0</td>\n",
       "      <td>1.0</td>\n",
       "      <td>0.0</td>\n",
       "      <td>1.0</td>\n",
       "      <td>3.0</td>\n",
       "      <td>0.0</td>\n",
       "      <td>0.0</td>\n",
       "      <td>0.0</td>\n",
       "      <td>1</td>\n",
       "    </tr>\n",
       "    <tr>\n",
       "      <th>3299</th>\n",
       "      <td>0</td>\n",
       "      <td>16.0</td>\n",
       "      <td>1.0</td>\n",
       "      <td>16.0</td>\n",
       "      <td>0.0</td>\n",
       "      <td>0.0</td>\n",
       "      <td>0.0</td>\n",
       "      <td>1.0</td>\n",
       "      <td>0.0</td>\n",
       "      <td>0.0</td>\n",
       "      <td>1.0</td>\n",
       "      <td>0.0</td>\n",
       "      <td>0.0</td>\n",
       "      <td>0.0</td>\n",
       "      <td>1</td>\n",
       "    </tr>\n",
       "    <tr>\n",
       "      <th>3611</th>\n",
       "      <td>1</td>\n",
       "      <td>12.0</td>\n",
       "      <td>2.0</td>\n",
       "      <td>18.0</td>\n",
       "      <td>0.0</td>\n",
       "      <td>0.0</td>\n",
       "      <td>0.0</td>\n",
       "      <td>0.0</td>\n",
       "      <td>0.0</td>\n",
       "      <td>5.0</td>\n",
       "      <td>0.0</td>\n",
       "      <td>0.0</td>\n",
       "      <td>0.0</td>\n",
       "      <td>0.0</td>\n",
       "      <td>1</td>\n",
       "    </tr>\n",
       "  </tbody>\n",
       "</table>\n",
       "</div>"
      ],
      "text/plain": [
       "      Gender     R     F  FirstPurch  ChildBks  YouthBks  CookBks  DoItYBks  \\\n",
       "3757       1   6.0  11.0        66.0       1.0       0.0      1.0       4.0   \n",
       "962        1   2.0   1.0         2.0       0.0       0.0      0.0       0.0   \n",
       "852        1   8.0  11.0        32.0       1.0       0.0      1.0       1.0   \n",
       "3299       0  16.0   1.0        16.0       0.0       0.0      0.0       1.0   \n",
       "3611       1  12.0   2.0        18.0       0.0       0.0      0.0       0.0   \n",
       "\n",
       "      RefBks  ArtBks  GeogBks  ItalCook  ItalAtlas  ItalArt  Yes_Florence  \n",
       "3757     0.0     1.0      2.0       0.0        2.0      0.0             1  \n",
       "962      0.0     0.0      0.0       0.0        0.0      0.0             1  \n",
       "852      0.0     1.0      3.0       0.0        0.0      0.0             1  \n",
       "3299     0.0     0.0      1.0       0.0        0.0      0.0             1  \n",
       "3611     0.0     5.0      0.0       0.0        0.0      0.0             1  "
      ]
     },
     "execution_count": 29,
     "metadata": {},
     "output_type": "execute_result"
    }
   ],
   "source": [
    "from sklearn.model_selection import train_test_split\n",
    "\n",
    "florence_1 = new_df2[new_df2.Yes_Florence == 1]\n",
    "\n",
    "Y = florence_1['M'] \n",
    "X = florence_1.drop(columns=['M', 'Mcode', 'Mcode_1', 'Mcode_2', 'Mcode_3', 'Mcode_4', 'Mcode_5','Fcode','Rcode','Rcode_1',\n",
    "                            'Rcode_2','Rcode_3','Rcode_4','Fcode_1','Fcode_2','Fcode_3', 'Related Purchase'])\n",
    "\n",
    "\n",
    "# Partition data into training (80%) and testing (20%)\n",
    "train_X, test_X, train_y, test_y = train_test_split(X, Y, test_size=0.2, random_state=1)\n",
    "train_X.head()"
   ]
  },
  {
   "cell_type": "markdown",
   "metadata": {},
   "source": [
    "## Exhaustive Search Approach"
   ]
  },
  {
   "cell_type": "code",
   "execution_count": 30,
   "metadata": {},
   "outputs": [],
   "source": [
    "from sklearn.linear_model import LinearRegression\n",
    "from dmba import adjusted_r2_score\n",
    "\n",
    "# Function to do a linear regression (DO NOT CHANGE. LEAVE AS IS)\n",
    "def train_model(variables): #(DO NOT CHANGE. LEAVE AS IS)\n",
    "    if len(variables) == 0:\n",
    "        return None\n",
    "    model = LinearRegression()\n",
    "    model.fit(train_X[variables], train_y)\n",
    "    return model\n",
    "\n",
    "# Function to assess the quality of the model using ajusted R-squared (DO NOT CHANGE. LEAVE AS IS)\n",
    "def score_model(model, variables): #(DO NOT CHANGE. LEAVE AS IS)\n",
    "    if len(variables) == 0:\n",
    "        return AIC_score(train_y, [train_y.mean()] * len(train_y), model, df=1)\n",
    "    return AIC_score(train_y, model.predict(train_X[variables]), model)"
   ]
  },
  {
   "cell_type": "code",
   "execution_count": 32,
   "metadata": {},
   "outputs": [
    {
     "data": {
      "text/plain": [
       "Index(['Gender', 'R', 'F', 'FirstPurch', 'ChildBks', 'YouthBks', 'CookBks',\n",
       "       'DoItYBks', 'RefBks', 'ArtBks', 'GeogBks', 'ItalCook', 'ItalAtlas',\n",
       "       'ItalArt', 'Yes_Florence'],\n",
       "      dtype='object')"
      ]
     },
     "execution_count": 32,
     "metadata": {},
     "output_type": "execute_result"
    }
   ],
   "source": [
    "from dmba import AIC_score\n",
    "from dmba import exhaustive_search\n",
    "\n",
    "# Names of all variables in the training data \n",
    "variable_names = train_X.columns\n",
    "variable_names\n",
    "# Result of the exhaustive search\n",
    "# results = exhaustive_search(variable_names, train_model, score_model) \n",
    "\n",
    "# Making the results presentable to see (DO NOT CHANGE. LEAVE AS IS)\n",
    "#data = []\n",
    "#for result in results:\n",
    "   # model = result['model']\n",
    "   # variables = result['variables']\n",
    "   # AIC = AIC_score(train_y, model.predict(train_X[variables]), model)\n",
    "    \n",
    "   # d = {'Predictors': result['n'], 'r2adj': -result['score'], 'AIC': AIC}\n",
    "   # d.update({var: var in result['variables'] for var in variable_names})\n",
    "   # data.append(d)\n",
    "    \n",
    "# Select variables from dataframe\n",
    "#selection = pd.DataFrame(data, columns=('Predictors', 'r2adj', 'AIC') + tuple(sorted(variable_names)))\n"
   ]
  },
  {
   "cell_type": "code",
   "execution_count": 35,
   "metadata": {},
   "outputs": [],
   "source": [
    "from dmba import AIC_score\n",
    "from dmba import exhaustive_search"
   ]
  },
  {
   "cell_type": "markdown",
   "metadata": {},
   "source": [
    "## Forward Selection-Using all variables in training predict M"
   ]
  },
  {
   "cell_type": "code",
   "execution_count": 36,
   "metadata": {},
   "outputs": [
    {
     "name": "stdout",
     "output_type": "stream",
     "text": [
      "['F', 'GeogBks']\n",
      "\n",
      "Regression statistics\n",
      "\n",
      "                      Mean Error (ME) : 2.5916\n",
      "       Root Mean Squared Error (RMSE) : 84.5685\n",
      "            Mean Absolute Error (MAE) : 71.4721\n",
      "          Mean Percentage Error (MPE) : -30.0850\n",
      "Mean Absolute Percentage Error (MAPE) : 55.8969\n"
     ]
    }
   ],
   "source": [
    "from dmba import forward_selection\n",
    "from dmba import regressionSummary\n",
    "\n",
    "# Names of all variables in the training data\n",
    "variable_names = train_X.columns\n",
    "\n",
    "# Call the forward selection function\n",
    "fs_best_model, fs_best_variables = forward_selection(variable_names, train_model, score_model, verbose=False)\n",
    "\n",
    "# Best variables using forward selection\n",
    "print(fs_best_variables)\n",
    "\n",
    "# How good is the model?\n",
    "fs_prediction = fs_best_model.predict(test_X[fs_best_variables])\n",
    "regressionSummary(test_y, fs_prediction)"
   ]
  },
  {
   "cell_type": "markdown",
   "metadata": {},
   "source": [
    "## Stepwise Regression- Using all variables in training predict M"
   ]
  },
  {
   "cell_type": "code",
   "execution_count": 48,
   "metadata": {},
   "outputs": [
    {
     "name": "stdout",
     "output_type": "stream",
     "text": [
      "['F', 'GeogBks']\n",
      "\n",
      "Regression statistics\n",
      "\n",
      "                      Mean Error (ME) : 2.5916\n",
      "       Root Mean Squared Error (RMSE) : 84.5685\n",
      "            Mean Absolute Error (MAE) : 71.4721\n",
      "          Mean Percentage Error (MPE) : -30.0850\n",
      "Mean Absolute Percentage Error (MAPE) : 55.8969\n"
     ]
    }
   ],
   "source": [
    "from dmba import stepwise_selection\n",
    "\n",
    "# Names of all variables in the training data\n",
    "variable_names = train_X.columns\n",
    "\n",
    "# Call the stepwise regression function\n",
    "sr_best_model, sr_best_variables = stepwise_selection(train_X.columns, train_model, score_model, verbose=False)\n",
    "\n",
    "# Best variables using stepwise regression\n",
    "print(sr_best_variables)\n",
    "\n",
    "# How good is the model?\n",
    "sr_prediction = sr_best_model.predict(test_X[sr_best_variables])\n",
    "regressionSummary(test_y, sr_prediction)"
   ]
  },
  {
   "cell_type": "markdown",
   "metadata": {},
   "source": [
    "## Decision Trees- Using all variables in training predict M"
   ]
  },
  {
   "cell_type": "code",
   "execution_count": 37,
   "metadata": {},
   "outputs": [
    {
     "ename": "NameError",
     "evalue": "name 'GridSearchCV' is not defined",
     "output_type": "error",
     "traceback": [
      "\u001b[1;31m---------------------------------------------------------------------------\u001b[0m",
      "\u001b[1;31mNameError\u001b[0m                                 Traceback (most recent call last)",
      "\u001b[1;32m<ipython-input-37-63a8ba5918ad>\u001b[0m in \u001b[0;36m<module>\u001b[1;34m\u001b[0m\n\u001b[0;32m      8\u001b[0m }\n\u001b[0;32m      9\u001b[0m \u001b[1;33m\u001b[0m\u001b[0m\n\u001b[1;32m---> 10\u001b[1;33m \u001b[0mdt_gs\u001b[0m \u001b[1;33m=\u001b[0m \u001b[0mGridSearchCV\u001b[0m\u001b[1;33m(\u001b[0m\u001b[0mDecisionTreeRegressor\u001b[0m\u001b[1;33m(\u001b[0m\u001b[0mrandom_state\u001b[0m\u001b[1;33m=\u001b[0m\u001b[1;36m28\u001b[0m\u001b[1;33m)\u001b[0m\u001b[1;33m,\u001b[0m \u001b[0mdt_grid\u001b[0m\u001b[1;33m,\u001b[0m \u001b[0mcv\u001b[0m\u001b[1;33m=\u001b[0m\u001b[1;36m10\u001b[0m\u001b[1;33m,\u001b[0m \u001b[0mn_jobs\u001b[0m\u001b[1;33m=\u001b[0m\u001b[1;33m-\u001b[0m\u001b[1;36m1\u001b[0m\u001b[1;33m)\u001b[0m\u001b[1;33m\u001b[0m\u001b[1;33m\u001b[0m\u001b[0m\n\u001b[0m\u001b[0;32m     11\u001b[0m \u001b[0mdt_gs\u001b[0m\u001b[1;33m.\u001b[0m\u001b[0mfit\u001b[0m\u001b[1;33m(\u001b[0m\u001b[0mtrain_X\u001b[0m\u001b[1;33m,\u001b[0m \u001b[0mtrain_y\u001b[0m\u001b[1;33m)\u001b[0m\u001b[1;33m\u001b[0m\u001b[1;33m\u001b[0m\u001b[0m\n\u001b[0;32m     12\u001b[0m \u001b[1;33m\u001b[0m\u001b[0m\n",
      "\u001b[1;31mNameError\u001b[0m: name 'GridSearchCV' is not defined"
     ]
    }
   ],
   "source": [
    "from sklearn.tree import DecisionTreeRegressor\n",
    "\n",
    "# user grid search to find optimized tree\n",
    "dt_grid = {\n",
    "    'max_depth': [5, 10, 15], \n",
    "    'min_impurity_decrease': [0, 0.001], \n",
    "    'min_samples_split': [10, 15, 20], \n",
    "}\n",
    "\n",
    "dt_gs = GridSearchCV(DecisionTreeRegressor(random_state=28), dt_grid, cv=10, n_jobs=-1)\n",
    "dt_gs.fit(train_X, train_y)\n",
    "\n",
    "# Best decision tree from the grid search\n",
    "best_dt = dt_gs.best_estimator_\n",
    "\n",
    "# Print best parameters of decision trees\n",
    "print('Best parameters: ', dt_gs.best_params_)"
   ]
  },
  {
   "cell_type": "markdown",
   "metadata": {},
   "source": [
    "### Decision Trees- Get First 5 Most Important Variables and Plot Them"
   ]
  },
  {
   "cell_type": "code",
   "execution_count": 38,
   "metadata": {},
   "outputs": [
    {
     "ename": "NameError",
     "evalue": "name 'best_dt' is not defined",
     "output_type": "error",
     "traceback": [
      "\u001b[1;31m---------------------------------------------------------------------------\u001b[0m",
      "\u001b[1;31mNameError\u001b[0m                                 Traceback (most recent call last)",
      "\u001b[1;32m<ipython-input-38-529dae62ea8b>\u001b[0m in \u001b[0;36m<module>\u001b[1;34m\u001b[0m\n\u001b[0;32m      1\u001b[0m \u001b[1;31m# Get important variables\u001b[0m\u001b[1;33m\u001b[0m\u001b[1;33m\u001b[0m\u001b[1;33m\u001b[0m\u001b[0m\n\u001b[1;32m----> 2\u001b[1;33m \u001b[0mdt_importances\u001b[0m \u001b[1;33m=\u001b[0m \u001b[0mbest_dt\u001b[0m\u001b[1;33m.\u001b[0m\u001b[0mfeature_importances_\u001b[0m\u001b[1;33m\u001b[0m\u001b[1;33m\u001b[0m\u001b[0m\n\u001b[0m\u001b[0;32m      3\u001b[0m \u001b[1;33m\u001b[0m\u001b[0m\n\u001b[0;32m      4\u001b[0m \u001b[1;31m# Important features\u001b[0m\u001b[1;33m\u001b[0m\u001b[1;33m\u001b[0m\u001b[1;33m\u001b[0m\u001b[0m\n\u001b[0;32m      5\u001b[0m \u001b[0mimp_dt_features\u001b[0m \u001b[1;33m=\u001b[0m \u001b[0mpd\u001b[0m\u001b[1;33m.\u001b[0m\u001b[0mDataFrame\u001b[0m\u001b[1;33m(\u001b[0m\u001b[1;33m{\u001b[0m\u001b[1;34m'feature'\u001b[0m\u001b[1;33m:\u001b[0m \u001b[0mtrain_X\u001b[0m\u001b[1;33m.\u001b[0m\u001b[0mcolumns\u001b[0m\u001b[1;33m,\u001b[0m \u001b[1;34m'dt_importance'\u001b[0m\u001b[1;33m:\u001b[0m \u001b[0mdt_importances\u001b[0m\u001b[1;33m}\u001b[0m\u001b[1;33m)\u001b[0m\u001b[1;33m\u001b[0m\u001b[1;33m\u001b[0m\u001b[0m\n",
      "\u001b[1;31mNameError\u001b[0m: name 'best_dt' is not defined"
     ]
    }
   ],
   "source": [
    "# Get important variables\n",
    "dt_importances = best_dt.feature_importances_\n",
    "\n",
    "# Important features\n",
    "imp_dt_features = pd.DataFrame({'feature': train_X.columns, 'dt_importance': dt_importances})\n",
    "imp_dt_features_sort = imp_dt_features.sort_values(by=\"dt_importance\", ascending=False)\n",
    "\n",
    "# Plotting variable importance\n",
    "imp_dt_features_sort.head(5).plot(kind='barh', x='feature', legend=False)\n",
    "plt.title(\"Decision Tree Variable Importance\")\n",
    "plt.tight_layout()\n",
    "plt.show()"
   ]
  },
  {
   "cell_type": "code",
   "execution_count": 39,
   "metadata": {},
   "outputs": [
    {
     "ename": "NameError",
     "evalue": "name 'imp_dt_features_sort' is not defined",
     "output_type": "error",
     "traceback": [
      "\u001b[1;31m---------------------------------------------------------------------------\u001b[0m",
      "\u001b[1;31mNameError\u001b[0m                                 Traceback (most recent call last)",
      "\u001b[1;32m<ipython-input-39-7487051f3673>\u001b[0m in \u001b[0;36m<module>\u001b[1;34m\u001b[0m\n\u001b[0;32m      1\u001b[0m \u001b[1;31m# Fit another boosted model on the 5 most important variables\u001b[0m\u001b[1;33m\u001b[0m\u001b[1;33m\u001b[0m\u001b[1;33m\u001b[0m\u001b[0m\n\u001b[1;32m----> 2\u001b[1;33m \u001b[0mdt_vars_5\u001b[0m \u001b[1;33m=\u001b[0m \u001b[0mimp_dt_features_sort\u001b[0m\u001b[1;33m.\u001b[0m\u001b[0mfeature\u001b[0m\u001b[1;33m.\u001b[0m\u001b[0mvalues\u001b[0m\u001b[1;33m[\u001b[0m\u001b[1;33m:\u001b[0m\u001b[1;36m5\u001b[0m\u001b[1;33m]\u001b[0m \u001b[1;31m#Top 5 important variables of random forest\u001b[0m\u001b[1;33m\u001b[0m\u001b[1;33m\u001b[0m\u001b[0m\n\u001b[0m\u001b[0;32m      3\u001b[0m \u001b[0mdt_train_X\u001b[0m \u001b[1;33m=\u001b[0m \u001b[0mtrain_X\u001b[0m\u001b[1;33m[\u001b[0m\u001b[0mdt_vars_5\u001b[0m\u001b[1;33m]\u001b[0m \u001b[1;31m#Independent variables\u001b[0m\u001b[1;33m\u001b[0m\u001b[1;33m\u001b[0m\u001b[0m\n\u001b[0;32m      4\u001b[0m \u001b[1;33m\u001b[0m\u001b[0m\n\u001b[0;32m      5\u001b[0m \u001b[0mdt_model_5\u001b[0m \u001b[1;33m=\u001b[0m \u001b[0mDecisionTreeRegressor\u001b[0m\u001b[1;33m(\u001b[0m\u001b[0mmax_depth\u001b[0m\u001b[1;33m=\u001b[0m\u001b[1;36m10\u001b[0m\u001b[1;33m,\u001b[0m \u001b[0mmin_impurity_decrease\u001b[0m\u001b[1;33m=\u001b[0m\u001b[1;36m0\u001b[0m\u001b[1;33m,\u001b[0m \u001b[0mmin_samples_split\u001b[0m\u001b[1;33m=\u001b[0m\u001b[1;36m20\u001b[0m\u001b[1;33m)\u001b[0m\u001b[1;33m\u001b[0m\u001b[1;33m\u001b[0m\u001b[0m\n",
      "\u001b[1;31mNameError\u001b[0m: name 'imp_dt_features_sort' is not defined"
     ]
    }
   ],
   "source": [
    "# Fit another boosted model on the 5 most important variables\n",
    "dt_vars_5 = imp_dt_features_sort.feature.values[:5] #Top 5 important variables of random forest\n",
    "dt_train_X = train_X[dt_vars_5] #Independent variables\n",
    "\n",
    "dt_model_5 = DecisionTreeRegressor(max_depth=10, min_impurity_decrease=0, min_samples_split=20)\n",
    "dt_model_5.fit(dt_train_X, train_y)"
   ]
  },
  {
   "cell_type": "markdown",
   "metadata": {},
   "source": [
    "## Regression Tree Model Prediction and Evaluation out"
   ]
  },
  {
   "cell_type": "code",
   "execution_count": 68,
   "metadata": {},
   "outputs": [
    {
     "name": "stdout",
     "output_type": "stream",
     "text": [
      "Predictions for training data\n",
      "****** TRAINING DATA ********\n",
      "\n",
      "Regression statistics\n",
      "\n",
      "                      Mean Error (ME) : 0.0000\n",
      "       Root Mean Squared Error (RMSE) : 68.7019\n",
      "            Mean Absolute Error (MAE) : 56.0833\n",
      "          Mean Percentage Error (MPE) : -25.8288\n",
      "Mean Absolute Percentage Error (MAPE) : 45.9696\n",
      "\n",
      "****** TESTING DATA ********\n",
      "\n",
      "Regression statistics\n",
      "\n",
      "                      Mean Error (ME) : -3.6899\n",
      "       Root Mean Squared Error (RMSE) : 99.3425\n",
      "            Mean Absolute Error (MAE) : 83.3802\n",
      "          Mean Percentage Error (MPE) : -34.2816\n",
      "Mean Absolute Percentage Error (MAPE) : 63.5837\n"
     ]
    }
   ],
   "source": [
    "from dmba import regressionSummary\n",
    "\n",
    "rt_pred_train = dt_model_5.predict(train_X[dt_vars_5])\n",
    "rt_pred_test = dt_model_5.predict(test_X[dt_vars_5])\n",
    "\n",
    "# Summary of training data predictions\n",
    "pred_summary = pd.DataFrame({\"Actual_Prediction\": train_y,\n",
    "                             \"RT_Prediction\":rt_pred_train})\n",
    "\n",
    "print(\"Predictions for training data\")\n",
    "pred_summary.head(10)\n",
    "\n",
    "# Model evaluation\n",
    "print(\"****** TRAINING DATA ********\")\n",
    "regressionSummary(train_y, rt_pred_train)\n",
    "\n",
    "print(\"\\n****** TESTING DATA ********\")\n",
    "regressionSummary(test_y, rt_pred_test)"
   ]
  },
  {
   "cell_type": "markdown",
   "metadata": {},
   "source": [
    "## Random Forest- Using all variables in training predict M"
   ]
  },
  {
   "cell_type": "code",
   "execution_count": 54,
   "metadata": {},
   "outputs": [
    {
     "name": "stdout",
     "output_type": "stream",
     "text": [
      "Best parameters:  {'max_depth': 5, 'min_impurity_decrease': 0, 'min_samples_split': 20}\n"
     ]
    }
   ],
   "source": [
    "from sklearn.ensemble import RandomForestRegressor\n",
    "from sklearn.model_selection import GridSearchCV\n",
    "\n",
    "# user grid search to find optimized random forest parameters\n",
    "rf_grid = {\n",
    "    'max_depth': [5, 10, 15], \n",
    "    'min_impurity_decrease': [0, 0.001], \n",
    "    'min_samples_split': [10, 15, 20], \n",
    "}\n",
    "\n",
    "rf_gs = GridSearchCV(RandomForestRegressor(random_state=15), rf_grid, cv=10, n_jobs=-1)\n",
    "rf_gs.fit(train_X, train_y)\n",
    "\n",
    "# Best random forest from the grid search\n",
    "best_rf = rf_gs.best_estimator_\n",
    "\n",
    "# Print best parameters of random forest\n",
    "print('Best parameters: ', rf_gs.best_params_)"
   ]
  },
  {
   "cell_type": "markdown",
   "metadata": {},
   "source": [
    "## Random Forest - Except the multiple linear regression what is the top 5 most important and plot"
   ]
  },
  {
   "cell_type": "code",
   "execution_count": 55,
   "metadata": {},
   "outputs": [
    {
     "data": {
      "image/png": "[encoded data removed]",
      "text/plain": [
       "<Figure size 432x288 with 1 Axes>"
      ]
     },
     "metadata": {
      "needs_background": "light"
     },
     "output_type": "display_data"
    }
   ],
   "source": [
    "# Get important variables\n",
    "rf_importances = best_rf.feature_importances_\n",
    "\n",
    "# Important features\n",
    "imp_rf_features = pd.DataFrame({'feature': train_X.columns, 'rf_importance': rf_importances})\n",
    "imp_rf_features_sort = imp_rf_features.sort_values(by=\"rf_importance\", ascending=False)\n",
    "\n",
    "# Plotting variable importance\n",
    "imp_rf_features_sort.head(5).plot(kind='barh', x='feature', legend=False)\n",
    "plt.title(\"Random Forest Variable Importance\")\n",
    "plt.tight_layout()\n",
    "plt.show()"
   ]
  },
  {
   "cell_type": "code",
   "execution_count": 56,
   "metadata": {},
   "outputs": [
    {
     "data": {
      "text/plain": [
       "RandomForestRegressor(max_depth=15, min_impurity_decrease=0,\n",
       "                      min_samples_split=10)"
      ]
     },
     "execution_count": 56,
     "metadata": {},
     "output_type": "execute_result"
    }
   ],
   "source": [
    "# Fit another random forest model on the 5 most important variables\n",
    "rf_vars_5 = imp_rf_features_sort.feature.values[:5] #Top 5 important variables of random forest\n",
    "rf_train_X = train_X[rf_vars_5] #Independent variables\n",
    "\n",
    "rf_model_5 = RandomForestRegressor(max_depth=15, min_impurity_decrease=0, min_samples_split=10)\n",
    "rf_model_5.fit(rf_train_X, train_y)"
   ]
  },
  {
   "cell_type": "code",
   "execution_count": null,
   "metadata": {},
   "outputs": [],
   "source": []
  },
  {
   "cell_type": "markdown",
   "metadata": {},
   "source": [
    "## Boosted Trees- Using all variables in training predict M"
   ]
  },
  {
   "cell_type": "code",
   "execution_count": 57,
   "metadata": {},
   "outputs": [
    {
     "name": "stdout",
     "output_type": "stream",
     "text": [
      "Best parameters:  {'max_depth': 5, 'min_impurity_decrease': 0, 'min_samples_split': 30}\n"
     ]
    }
   ],
   "source": [
    "from sklearn.ensemble import GradientBoostingRegressor\n",
    "\n",
    "# user grid search to find optimized random forest parameters\n",
    "boost_grid = {\n",
    "    'max_depth': [5, 10, 15], \n",
    "    'min_impurity_decrease': [0, 0.001,0.005], \n",
    "    'min_samples_split': [10, 20, 30], \n",
    "}\n",
    "\n",
    "boost_gs = GridSearchCV(GradientBoostingRegressor(random_state=15), boost_grid, cv=10, n_jobs=-1)\n",
    "boost_gs.fit(train_X, train_y)\n",
    "\n",
    "# Best boost from the grid search\n",
    "best_boost = boost_gs.best_estimator_\n",
    "\n",
    "# Print best parameters of boosting\n",
    "print('Best parameters: ', boost_gs.best_params_)"
   ]
  },
  {
   "cell_type": "markdown",
   "metadata": {},
   "source": [
    "## Boosted Trees- Except the multiple linear regression what is the top 5 most important and plot"
   ]
  },
  {
   "cell_type": "code",
   "execution_count": 58,
   "metadata": {},
   "outputs": [
    {
     "data": {
      "image/png": "[encoded data removed]",
      "text/plain": [
       "<Figure size 432x288 with 1 Axes>"
      ]
     },
     "metadata": {
      "needs_background": "light"
     },
     "output_type": "display_data"
    }
   ],
   "source": [
    "# Get important variables\n",
    "boost_importances = best_boost.feature_importances_\n",
    "\n",
    "# Important features\n",
    "imp_boost_features = pd.DataFrame({'feature': train_X.columns, 'boost_importance': boost_importances})\n",
    "imp_boost_features_sort = imp_boost_features.sort_values(by=\"boost_importance\", ascending=False)\n",
    "\n",
    "# Plotting variable importance\n",
    "imp_boost_features_sort.head(5).plot(kind='barh', x='feature', legend=False)\n",
    "plt.title(\"Boosting Variable Importance\")\n",
    "plt.tight_layout()\n",
    "plt.show()"
   ]
  },
  {
   "cell_type": "code",
   "execution_count": 59,
   "metadata": {},
   "outputs": [
    {
     "data": {
      "text/plain": [
       "GradientBoostingRegressor(max_depth=5, min_impurity_decrease=0,\n",
       "                          min_samples_split=15)"
      ]
     },
     "execution_count": 59,
     "metadata": {},
     "output_type": "execute_result"
    }
   ],
   "source": [
    "# Fit another boosted model on the 5 most important variables\n",
    "boost_vars_5 = imp_boost_features_sort.feature.values[:5] #Top 5 important variables of random forest\n",
    "boost_train_X = train_X[boost_vars_5] #Independent variables\n",
    "\n",
    "boost_model_5 = GradientBoostingRegressor(max_depth=5, min_impurity_decrease=0, min_samples_split=15)\n",
    "boost_model_5.fit(boost_train_X, train_y)"
   ]
  },
  {
   "cell_type": "markdown",
   "metadata": {},
   "source": [
    "# DO THESE MODELS OVERLAP? "
   ]
  },
  {
   "cell_type": "code",
   "execution_count": 69,
   "metadata": {},
   "outputs": [
    {
     "data": {
      "text/plain": [
       "(270, 25)"
      ]
     },
     "execution_count": 69,
     "metadata": {},
     "output_type": "execute_result"
    }
   ],
   "source": [
    "train_X.shape"
   ]
  },
  {
   "cell_type": "markdown",
   "metadata": {},
   "source": [
    "## Using the top 5 variables on the testing data. predict M using ALL models above\n",
    "## Not Needed"
   ]
  },
  {
   "cell_type": "code",
   "execution_count": 60,
   "metadata": {},
   "outputs": [],
   "source": [
    "# Select columns in testing data corresponding to top 5 important variables\n",
    "rf_test_X = test_X[rf_vars_5]\n",
    "boost_test_X = test_X[boost_vars_5]\n",
    "dt_test_X = test_X[dt_vars_5]\n",
    "be_test_X = test_X[be_vars_5]\n",
    "fs_test_X = test_X[fs_vars_5]\n",
    "sr_test_X = test_X[sr_vars_5]\n",
    "\n",
    "# Model Prediction on top 5 important features\n",
    "rf_pred_test = rf_model_5.predict(rf_test_X)\n",
    "boost_pred_test = boost_model_5.predict(boost_test_X)\n",
    "dt_pred_test = dt_model_5.predict(dt_test_X)\n",
    "be_pred_test = be_model_5.predict(be_test_X)\n",
    "fs_pred_test = fs_model_5.predict(fs_test_X)\n",
    "sr_pred_test = sr_model_5.predict(sr_test_X)"
   ]
  },
  {
   "cell_type": "markdown",
   "metadata": {},
   "source": [
    "## What is the model evaluation for ALL the models?"
   ]
  },
  {
   "cell_type": "code",
   "execution_count": 61,
   "metadata": {},
   "outputs": [
    {
     "name": "stdout",
     "output_type": "stream",
     "text": [
      "**************************Random Forest**************************\n",
      "\n",
      "Regression statistics\n",
      "\n",
      "                      Mean Error (ME) : -0.4739\n",
      "       Root Mean Squared Error (RMSE) : 87.5574\n",
      "            Mean Absolute Error (MAE) : 74.2003\n",
      "          Mean Percentage Error (MPE) : -30.9249\n",
      "Mean Absolute Percentage Error (MAPE) : 57.5691\n",
      "\n",
      "**************************Boosted Trees**************************\n",
      "\n",
      "Regression statistics\n",
      "\n",
      "                      Mean Error (ME) : -0.6708\n",
      "       Root Mean Squared Error (RMSE) : 94.1434\n",
      "            Mean Absolute Error (MAE) : 78.5417\n",
      "          Mean Percentage Error (MPE) : -29.8861\n",
      "Mean Absolute Percentage Error (MAPE) : 58.3779\n",
      "\n",
      "**************************Decision Trees**************************\n",
      "\n",
      "Regression statistics\n",
      "\n",
      "                      Mean Error (ME) : -3.6899\n",
      "       Root Mean Squared Error (RMSE) : 99.3425\n",
      "            Mean Absolute Error (MAE) : 83.3802\n",
      "          Mean Percentage Error (MPE) : -34.2816\n",
      "Mean Absolute Percentage Error (MAPE) : 63.5837\n",
      "\n",
      "**************************Backward Elimination**************************\n",
      "\n",
      "Regression statistics\n",
      "\n",
      "                      Mean Error (ME) : 2.5916\n",
      "       Root Mean Squared Error (RMSE) : 84.5685\n",
      "            Mean Absolute Error (MAE) : 71.4721\n",
      "          Mean Percentage Error (MPE) : -30.0850\n",
      "Mean Absolute Percentage Error (MAPE) : 55.8969\n",
      "\n",
      "**************************Forward Selection**************************\n",
      "\n",
      "Regression statistics\n",
      "\n",
      "                      Mean Error (ME) : 2.5916\n",
      "       Root Mean Squared Error (RMSE) : 84.5685\n",
      "            Mean Absolute Error (MAE) : 71.4721\n",
      "          Mean Percentage Error (MPE) : -30.0850\n",
      "Mean Absolute Percentage Error (MAPE) : 55.8969\n",
      "\n",
      "**************************Stepwise Regression**************************\n",
      "\n",
      "Regression statistics\n",
      "\n",
      "                      Mean Error (ME) : 2.5916\n",
      "       Root Mean Squared Error (RMSE) : 84.5685\n",
      "            Mean Absolute Error (MAE) : 71.4721\n",
      "          Mean Percentage Error (MPE) : -30.0850\n",
      "Mean Absolute Percentage Error (MAPE) : 55.8969\n"
     ]
    }
   ],
   "source": [
    "from dmba import regressionSummary\n",
    "\n",
    "# Random forest\n",
    "print(\"**************************Random Forest**************************\")\n",
    "regressionSummary(test_y, rf_pred_test)\n",
    "\n",
    "# Random forest\n",
    "print(\"\\n**************************Boosted Trees**************************\")\n",
    "regressionSummary(test_y, boost_pred_test)\n",
    "\n",
    "# Decision Trees\n",
    "print(\"\\n**************************Decision Trees**************************\")\n",
    "regressionSummary(test_y, dt_pred_test)\n",
    "\n",
    "# Backward Elimination\n",
    "print(\"\\n**************************Backward Elimination**************************\")\n",
    "regressionSummary(test_y, be_pred_test)\n",
    "\n",
    "# Backward Elimination\n",
    "print(\"\\n**************************Forward Selection**************************\")\n",
    "regressionSummary(test_y, fs_pred_test)\n",
    "\n",
    "# Backward Elimination\n",
    "print(\"\\n**************************Stepwise Regression**************************\")\n",
    "regressionSummary(test_y, sr_pred_test)"
   ]
  },
  {
   "cell_type": "code",
   "execution_count": null,
   "metadata": {},
   "outputs": [],
   "source": []
  }
 ],
 "metadata": {
  "kernelspec": {
   "display_name": "Python 3",
   "language": "python",
   "name": "python3"
  },
  "language_info": {
   "codemirror_mode": {
    "name": "ipython",
    "version": 3
   },
   "file_extension": ".py",
   "mimetype": "text/x-python",
   "name": "python",
   "nbconvert_exporter": "python",
   "pygments_lexer": "ipython3",
   "version": "3.8.3"
  }
 },
 "nbformat": 4,
 "nbformat_minor": 4
}
